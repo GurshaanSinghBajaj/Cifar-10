{
 "cells": [
  {
   "cell_type": "code",
   "execution_count": 1,
   "metadata": {
    "colab": {
     "base_uri": "https://localhost:8080/",
     "height": 35
    },
    "colab_type": "code",
    "id": "33x7NJDZe1bI",
    "outputId": "2ea67e82-bd35-4e44-c073-d2c0c1bb0395"
   },
   "outputs": [
    {
     "name": "stderr",
     "output_type": "stream",
     "text": [
      "Using TensorFlow backend.\n"
     ]
    }
   ],
   "source": [
    "import numpy as np\n",
    "from sklearn.decomposition import PCA\n",
    "from sklearn.model_selection import train_test_split\n",
    "from sklearn.linear_model import LogisticRegression\n",
    "from sklearn import svm\n",
    "from sklearn.metrics import confusion_matrix, classification_report, accuracy_score\n",
    "from sklearn.neighbors import KNeighborsClassifier\n",
    "from xgboost import XGBClassifier\n",
    "from sklearn.ensemble import RandomForestClassifier\n",
    "import keras"
   ]
  },
  {
   "cell_type": "code",
   "execution_count": 0,
   "metadata": {
    "colab": {},
    "colab_type": "code",
    "id": "jG0e_Kbie1bM"
   },
   "outputs": [],
   "source": [
    "import cifar10\n",
    "import matplotlib.pyplot as plt\n",
    "%matplotlib inline"
   ]
  },
  {
   "cell_type": "markdown",
   "metadata": {
    "colab_type": "text",
    "id": "sJKZLRZBfTfX"
   },
   "source": []
  },
  {
   "cell_type": "code",
   "execution_count": 0,
   "metadata": {
    "colab": {},
    "colab_type": "code",
    "id": "BpjYvruce1bO"
   },
   "outputs": [],
   "source": [
    "cifar10.data_path = \"data/CIFAR-10/\""
   ]
  },
  {
   "cell_type": "code",
   "execution_count": 5,
   "metadata": {
    "colab": {
     "base_uri": "https://localhost:8080/",
     "height": 69
    },
    "colab_type": "code",
    "id": "oLk5Nt2Ze1bR",
    "outputId": "e82f8b68-be89-414a-a296-88746731aa13"
   },
   "outputs": [
    {
     "name": "stdout",
     "output_type": "stream",
     "text": [
      "- Download progress: 100.0%\n",
      "Download finished. Extracting files.\n",
      "Done.\n"
     ]
    }
   ],
   "source": [
    "cifar10.maybe_download_and_extract()"
   ]
  },
  {
   "cell_type": "code",
   "execution_count": 6,
   "metadata": {
    "colab": {
     "base_uri": "https://localhost:8080/",
     "height": 208
    },
    "colab_type": "code",
    "id": "mpV2g4rne1bT",
    "outputId": "23d269c1-c97f-489c-a433-7b9c86917f5c"
   },
   "outputs": [
    {
     "name": "stdout",
     "output_type": "stream",
     "text": [
      "Loading data: data/CIFAR-10/cifar-10-batches-py/batches.meta\n"
     ]
    },
    {
     "data": {
      "text/plain": [
       "['airplane',\n",
       " 'automobile',\n",
       " 'bird',\n",
       " 'cat',\n",
       " 'deer',\n",
       " 'dog',\n",
       " 'frog',\n",
       " 'horse',\n",
       " 'ship',\n",
       " 'truck']"
      ]
     },
     "execution_count": 6,
     "metadata": {
      "tags": []
     },
     "output_type": "execute_result"
    }
   ],
   "source": [
    "class_names = cifar10.load_class_names()\n",
    "class_names"
   ]
  },
  {
   "cell_type": "code",
   "execution_count": 7,
   "metadata": {
    "colab": {
     "base_uri": "https://localhost:8080/",
     "height": 121
    },
    "colab_type": "code",
    "id": "GelnTsmge1bW",
    "outputId": "7962e8db-fa6c-41bb-efa1-23455c21a912"
   },
   "outputs": [
    {
     "name": "stdout",
     "output_type": "stream",
     "text": [
      "Loading data: data/CIFAR-10/cifar-10-batches-py/data_batch_1\n",
      "Loading data: data/CIFAR-10/cifar-10-batches-py/data_batch_2\n",
      "Loading data: data/CIFAR-10/cifar-10-batches-py/data_batch_3\n",
      "Loading data: data/CIFAR-10/cifar-10-batches-py/data_batch_4\n",
      "Loading data: data/CIFAR-10/cifar-10-batches-py/data_batch_5\n",
      "Loading data: data/CIFAR-10/cifar-10-batches-py/test_batch\n"
     ]
    }
   ],
   "source": [
    "images_train, cls_train, labels_train = cifar10.load_training_data()\n",
    "images_test, cls_test, labels_test = cifar10.load_test_data()"
   ]
  },
  {
   "cell_type": "code",
   "execution_count": 8,
   "metadata": {
    "colab": {
     "base_uri": "https://localhost:8080/",
     "height": 5339
    },
    "colab_type": "code",
    "id": "Rgrssvvie1bY",
    "outputId": "5045357e-74f7-41d5-95c3-eb69ccc477b2"
   },
   "outputs": [
    {
     "name": "stdout",
     "output_type": "stream",
     "text": [
      "[[[[0.23137255 0.24313725 0.24705882]\n",
      "   [0.16862745 0.18039216 0.17647059]\n",
      "   [0.19607843 0.18823529 0.16862745]\n",
      "   ...\n",
      "   [0.61960784 0.51764706 0.42352941]\n",
      "   [0.59607843 0.49019608 0.4       ]\n",
      "   [0.58039216 0.48627451 0.40392157]]\n",
      "\n",
      "  [[0.0627451  0.07843137 0.07843137]\n",
      "   [0.         0.         0.        ]\n",
      "   [0.07058824 0.03137255 0.        ]\n",
      "   ...\n",
      "   [0.48235294 0.34509804 0.21568627]\n",
      "   [0.46666667 0.3254902  0.19607843]\n",
      "   [0.47843137 0.34117647 0.22352941]]\n",
      "\n",
      "  [[0.09803922 0.09411765 0.08235294]\n",
      "   [0.0627451  0.02745098 0.        ]\n",
      "   [0.19215686 0.10588235 0.03137255]\n",
      "   ...\n",
      "   [0.4627451  0.32941176 0.19607843]\n",
      "   [0.47058824 0.32941176 0.19607843]\n",
      "   [0.42745098 0.28627451 0.16470588]]\n",
      "\n",
      "  ...\n",
      "\n",
      "  [[0.81568627 0.66666667 0.37647059]\n",
      "   [0.78823529 0.6        0.13333333]\n",
      "   [0.77647059 0.63137255 0.10196078]\n",
      "   ...\n",
      "   [0.62745098 0.52156863 0.2745098 ]\n",
      "   [0.21960784 0.12156863 0.02745098]\n",
      "   [0.20784314 0.13333333 0.07843137]]\n",
      "\n",
      "  [[0.70588235 0.54509804 0.37647059]\n",
      "   [0.67843137 0.48235294 0.16470588]\n",
      "   [0.72941176 0.56470588 0.11764706]\n",
      "   ...\n",
      "   [0.72156863 0.58039216 0.36862745]\n",
      "   [0.38039216 0.24313725 0.13333333]\n",
      "   [0.3254902  0.20784314 0.13333333]]\n",
      "\n",
      "  [[0.69411765 0.56470588 0.45490196]\n",
      "   [0.65882353 0.50588235 0.36862745]\n",
      "   [0.70196078 0.55686275 0.34117647]\n",
      "   ...\n",
      "   [0.84705882 0.72156863 0.54901961]\n",
      "   [0.59215686 0.4627451  0.32941176]\n",
      "   [0.48235294 0.36078431 0.28235294]]]\n",
      "\n",
      "\n",
      " [[[0.60392157 0.69411765 0.73333333]\n",
      "   [0.49411765 0.5372549  0.53333333]\n",
      "   [0.41176471 0.40784314 0.37254902]\n",
      "   ...\n",
      "   [0.35686275 0.37254902 0.27843137]\n",
      "   [0.34117647 0.35294118 0.27843137]\n",
      "   [0.30980392 0.31764706 0.2745098 ]]\n",
      "\n",
      "  [[0.54901961 0.62745098 0.6627451 ]\n",
      "   [0.56862745 0.6        0.60392157]\n",
      "   [0.49019608 0.49019608 0.4627451 ]\n",
      "   ...\n",
      "   [0.37647059 0.38823529 0.30588235]\n",
      "   [0.30196078 0.31372549 0.24313725]\n",
      "   [0.27843137 0.28627451 0.23921569]]\n",
      "\n",
      "  [[0.54901961 0.60784314 0.64313725]\n",
      "   [0.54509804 0.57254902 0.58431373]\n",
      "   [0.45098039 0.45098039 0.43921569]\n",
      "   ...\n",
      "   [0.30980392 0.32156863 0.25098039]\n",
      "   [0.26666667 0.2745098  0.21568627]\n",
      "   [0.2627451  0.27058824 0.21568627]]\n",
      "\n",
      "  ...\n",
      "\n",
      "  [[0.68627451 0.65490196 0.65098039]\n",
      "   [0.61176471 0.60392157 0.62745098]\n",
      "   [0.60392157 0.62745098 0.66666667]\n",
      "   ...\n",
      "   [0.16470588 0.13333333 0.14117647]\n",
      "   [0.23921569 0.20784314 0.22352941]\n",
      "   [0.36470588 0.3254902  0.35686275]]\n",
      "\n",
      "  [[0.64705882 0.60392157 0.50196078]\n",
      "   [0.61176471 0.59607843 0.50980392]\n",
      "   [0.62352941 0.63137255 0.55686275]\n",
      "   ...\n",
      "   [0.40392157 0.36470588 0.37647059]\n",
      "   [0.48235294 0.44705882 0.47058824]\n",
      "   [0.51372549 0.4745098  0.51372549]]\n",
      "\n",
      "  [[0.63921569 0.58039216 0.47058824]\n",
      "   [0.61960784 0.58039216 0.47843137]\n",
      "   [0.63921569 0.61176471 0.52156863]\n",
      "   ...\n",
      "   [0.56078431 0.52156863 0.54509804]\n",
      "   [0.56078431 0.5254902  0.55686275]\n",
      "   [0.56078431 0.52156863 0.56470588]]]\n",
      "\n",
      "\n",
      " [[[1.         1.         1.        ]\n",
      "   [0.99215686 0.99215686 0.99215686]\n",
      "   [0.99215686 0.99215686 0.99215686]\n",
      "   ...\n",
      "   [0.99215686 0.99215686 0.99215686]\n",
      "   [0.99215686 0.99215686 0.99215686]\n",
      "   [0.99215686 0.99215686 0.99215686]]\n",
      "\n",
      "  [[1.         1.         1.        ]\n",
      "   [1.         1.         1.        ]\n",
      "   [1.         1.         1.        ]\n",
      "   ...\n",
      "   [1.         1.         1.        ]\n",
      "   [1.         1.         1.        ]\n",
      "   [1.         1.         1.        ]]\n",
      "\n",
      "  [[1.         1.         1.        ]\n",
      "   [0.99607843 0.99607843 0.99607843]\n",
      "   [0.99607843 0.99607843 0.99607843]\n",
      "   ...\n",
      "   [0.99607843 0.99607843 0.99607843]\n",
      "   [0.99607843 0.99607843 0.99607843]\n",
      "   [0.99607843 0.99607843 0.99607843]]\n",
      "\n",
      "  ...\n",
      "\n",
      "  [[0.44313725 0.47058824 0.43921569]\n",
      "   [0.43529412 0.4627451  0.43529412]\n",
      "   [0.41176471 0.43921569 0.41568627]\n",
      "   ...\n",
      "   [0.28235294 0.31764706 0.31372549]\n",
      "   [0.28235294 0.31372549 0.30980392]\n",
      "   [0.28235294 0.31372549 0.30980392]]\n",
      "\n",
      "  [[0.43529412 0.4627451  0.43137255]\n",
      "   [0.40784314 0.43529412 0.40784314]\n",
      "   [0.38823529 0.41568627 0.38431373]\n",
      "   ...\n",
      "   [0.26666667 0.29411765 0.28627451]\n",
      "   [0.2745098  0.29803922 0.29411765]\n",
      "   [0.30588235 0.32941176 0.32156863]]\n",
      "\n",
      "  [[0.41568627 0.44313725 0.41176471]\n",
      "   [0.38823529 0.41568627 0.38431373]\n",
      "   [0.37254902 0.4        0.36862745]\n",
      "   ...\n",
      "   [0.30588235 0.33333333 0.3254902 ]\n",
      "   [0.30980392 0.33333333 0.3254902 ]\n",
      "   [0.31372549 0.3372549  0.32941176]]]\n",
      "\n",
      "\n",
      " ...\n",
      "\n",
      "\n",
      " [[[0.1372549  0.69803922 0.92156863]\n",
      "   [0.15686275 0.69019608 0.9372549 ]\n",
      "   [0.16470588 0.69019608 0.94509804]\n",
      "   ...\n",
      "   [0.38823529 0.69411765 0.85882353]\n",
      "   [0.30980392 0.57647059 0.77254902]\n",
      "   [0.34901961 0.58039216 0.74117647]]\n",
      "\n",
      "  [[0.22352941 0.71372549 0.91764706]\n",
      "   [0.17254902 0.72156863 0.98039216]\n",
      "   [0.19607843 0.71764706 0.94117647]\n",
      "   ...\n",
      "   [0.61176471 0.71372549 0.78431373]\n",
      "   [0.55294118 0.69411765 0.80784314]\n",
      "   [0.45490196 0.58431373 0.68627451]]\n",
      "\n",
      "  [[0.38431373 0.77254902 0.92941176]\n",
      "   [0.25098039 0.74117647 0.98823529]\n",
      "   [0.27058824 0.75294118 0.96078431]\n",
      "   ...\n",
      "   [0.7372549  0.76470588 0.80784314]\n",
      "   [0.46666667 0.52941176 0.57647059]\n",
      "   [0.23921569 0.30980392 0.35294118]]\n",
      "\n",
      "  ...\n",
      "\n",
      "  [[0.28627451 0.30980392 0.30196078]\n",
      "   [0.20784314 0.24705882 0.26666667]\n",
      "   [0.21176471 0.26666667 0.31372549]\n",
      "   ...\n",
      "   [0.06666667 0.15686275 0.25098039]\n",
      "   [0.08235294 0.14117647 0.2       ]\n",
      "   [0.12941176 0.18823529 0.19215686]]\n",
      "\n",
      "  [[0.23921569 0.26666667 0.29411765]\n",
      "   [0.21568627 0.2745098  0.3372549 ]\n",
      "   [0.22352941 0.30980392 0.40392157]\n",
      "   ...\n",
      "   [0.09411765 0.18823529 0.28235294]\n",
      "   [0.06666667 0.1372549  0.20784314]\n",
      "   [0.02745098 0.09019608 0.1254902 ]]\n",
      "\n",
      "  [[0.17254902 0.21960784 0.28627451]\n",
      "   [0.18039216 0.25882353 0.34509804]\n",
      "   [0.19215686 0.30196078 0.41176471]\n",
      "   ...\n",
      "   [0.10588235 0.20392157 0.30196078]\n",
      "   [0.08235294 0.16862745 0.25882353]\n",
      "   [0.04705882 0.12156863 0.19607843]]]\n",
      "\n",
      "\n",
      " [[[0.74117647 0.82745098 0.94117647]\n",
      "   [0.72941176 0.81568627 0.9254902 ]\n",
      "   [0.7254902  0.81176471 0.92156863]\n",
      "   ...\n",
      "   [0.68627451 0.76470588 0.87843137]\n",
      "   [0.6745098  0.76078431 0.87058824]\n",
      "   [0.6627451  0.76078431 0.8627451 ]]\n",
      "\n",
      "  [[0.76078431 0.82352941 0.9372549 ]\n",
      "   [0.74901961 0.81176471 0.9254902 ]\n",
      "   [0.74509804 0.80784314 0.92156863]\n",
      "   ...\n",
      "   [0.67843137 0.75294118 0.8627451 ]\n",
      "   [0.67058824 0.74901961 0.85490196]\n",
      "   [0.65490196 0.74509804 0.84705882]]\n",
      "\n",
      "  [[0.81568627 0.85882353 0.95686275]\n",
      "   [0.80392157 0.84705882 0.94117647]\n",
      "   [0.8        0.84313725 0.9372549 ]\n",
      "   ...\n",
      "   [0.68627451 0.74901961 0.85098039]\n",
      "   [0.6745098  0.74509804 0.84705882]\n",
      "   [0.6627451  0.74901961 0.84313725]]\n",
      "\n",
      "  ...\n",
      "\n",
      "  [[0.81176471 0.78039216 0.70980392]\n",
      "   [0.79607843 0.76470588 0.68627451]\n",
      "   [0.79607843 0.76862745 0.67843137]\n",
      "   ...\n",
      "   [0.52941176 0.51764706 0.49803922]\n",
      "   [0.63529412 0.61960784 0.58823529]\n",
      "   [0.65882353 0.63921569 0.59215686]]\n",
      "\n",
      "  [[0.77647059 0.74509804 0.66666667]\n",
      "   [0.74117647 0.70980392 0.62352941]\n",
      "   [0.70588235 0.6745098  0.57647059]\n",
      "   ...\n",
      "   [0.69803922 0.67058824 0.62745098]\n",
      "   [0.68627451 0.6627451  0.61176471]\n",
      "   [0.68627451 0.6627451  0.60392157]]\n",
      "\n",
      "  [[0.77647059 0.74117647 0.67843137]\n",
      "   [0.74117647 0.70980392 0.63529412]\n",
      "   [0.69803922 0.66666667 0.58431373]\n",
      "   ...\n",
      "   [0.76470588 0.72156863 0.6627451 ]\n",
      "   [0.76862745 0.74117647 0.67058824]\n",
      "   [0.76470588 0.74509804 0.67058824]]]\n",
      "\n",
      "\n",
      " [[[0.89803922 0.89803922 0.9372549 ]\n",
      "   [0.9254902  0.92941176 0.96862745]\n",
      "   [0.91764706 0.9254902  0.96862745]\n",
      "   ...\n",
      "   [0.85098039 0.85882353 0.91372549]\n",
      "   [0.86666667 0.8745098  0.91764706]\n",
      "   [0.87058824 0.8745098  0.91372549]]\n",
      "\n",
      "  [[0.87058824 0.86666667 0.89803922]\n",
      "   [0.9372549  0.9372549  0.97647059]\n",
      "   [0.91372549 0.91764706 0.96470588]\n",
      "   ...\n",
      "   [0.8745098  0.8745098  0.9254902 ]\n",
      "   [0.89019608 0.89411765 0.93333333]\n",
      "   [0.82352941 0.82745098 0.8627451 ]]\n",
      "\n",
      "  [[0.83529412 0.80784314 0.82745098]\n",
      "   [0.91764706 0.90980392 0.9372549 ]\n",
      "   [0.90588235 0.91372549 0.95686275]\n",
      "   ...\n",
      "   [0.8627451  0.8627451  0.90980392]\n",
      "   [0.8627451  0.85882353 0.90980392]\n",
      "   [0.79215686 0.79607843 0.84313725]]\n",
      "\n",
      "  ...\n",
      "\n",
      "  [[0.58823529 0.56078431 0.52941176]\n",
      "   [0.54901961 0.52941176 0.49803922]\n",
      "   [0.51764706 0.49803922 0.47058824]\n",
      "   ...\n",
      "   [0.87843137 0.87058824 0.85490196]\n",
      "   [0.90196078 0.89411765 0.88235294]\n",
      "   [0.94509804 0.94509804 0.93333333]]\n",
      "\n",
      "  [[0.5372549  0.51764706 0.49411765]\n",
      "   [0.50980392 0.49803922 0.47058824]\n",
      "   [0.49019608 0.4745098  0.45098039]\n",
      "   ...\n",
      "   [0.70980392 0.70588235 0.69803922]\n",
      "   [0.79215686 0.78823529 0.77647059]\n",
      "   [0.83137255 0.82745098 0.81176471]]\n",
      "\n",
      "  [[0.47843137 0.46666667 0.44705882]\n",
      "   [0.4627451  0.45490196 0.43137255]\n",
      "   [0.47058824 0.45490196 0.43529412]\n",
      "   ...\n",
      "   [0.70196078 0.69411765 0.67843137]\n",
      "   [0.64313725 0.64313725 0.63529412]\n",
      "   [0.63921569 0.63921569 0.63137255]]]]\n"
     ]
    }
   ],
   "source": [
    "print(images_train)"
   ]
  },
  {
   "cell_type": "code",
   "execution_count": 9,
   "metadata": {
    "colab": {
     "base_uri": "https://localhost:8080/",
     "height": 35
    },
    "colab_type": "code",
    "id": "MWTOqeooe1bb",
    "outputId": "387e9f40-1104-4f81-a011-10e14a282073"
   },
   "outputs": [
    {
     "name": "stdout",
     "output_type": "stream",
     "text": [
      "[6 9 9 ... 9 1 1]\n"
     ]
    }
   ],
   "source": [
    "print(cls_train)"
   ]
  },
  {
   "cell_type": "code",
   "execution_count": 10,
   "metadata": {
    "colab": {
     "base_uri": "https://localhost:8080/",
     "height": 35
    },
    "colab_type": "code",
    "id": "gzLsTOZxe1be",
    "outputId": "064dbcf4-11ef-46c5-d285-030d3425ee14"
   },
   "outputs": [
    {
     "data": {
      "text/plain": [
       "(50000, 32, 32, 3)"
      ]
     },
     "execution_count": 10,
     "metadata": {
      "tags": []
     },
     "output_type": "execute_result"
    }
   ],
   "source": [
    "images_train.shape"
   ]
  },
  {
   "cell_type": "code",
   "execution_count": 11,
   "metadata": {
    "colab": {
     "base_uri": "https://localhost:8080/",
     "height": 35
    },
    "colab_type": "code",
    "id": "4jClCbn5e1bi",
    "outputId": "e8d5fd69-4cdf-4f2e-a7bb-02bac7aaaa55"
   },
   "outputs": [
    {
     "data": {
      "text/plain": [
       "(10000, 32, 32, 3)"
      ]
     },
     "execution_count": 11,
     "metadata": {
      "tags": []
     },
     "output_type": "execute_result"
    }
   ],
   "source": [
    "images_test.shape"
   ]
  },
  {
   "cell_type": "code",
   "execution_count": 12,
   "metadata": {
    "colab": {
     "base_uri": "https://localhost:8080/",
     "height": 52
    },
    "colab_type": "code",
    "id": "dbE3SnuEe1bk",
    "outputId": "8989e484-d522-4991-85af-1880ce37fb66"
   },
   "outputs": [
    {
     "name": "stdout",
     "output_type": "stream",
     "text": [
      "(50000, 3072)\n",
      "(10000, 3072)\n"
     ]
    }
   ],
   "source": [
    "x_train = images_train.reshape(images_train.shape[0],-1)\n",
    "x_test = images_test.reshape(images_test.shape[0],-1)\n",
    "print(x_train.shape)\n",
    "print(x_test.shape)"
   ]
  },
  {
   "cell_type": "code",
   "execution_count": 0,
   "metadata": {
    "colab": {},
    "colab_type": "code",
    "id": "gPTgF6FrV3Zf"
   },
   "outputs": [],
   "source": []
  },
  {
   "cell_type": "code",
   "execution_count": 0,
   "metadata": {
    "colab": {},
    "colab_type": "code",
    "id": "qxKX9uU8e1bm"
   },
   "outputs": [],
   "source": [
    "y_train = cls_train\n",
    "y_test = cls_test"
   ]
  },
  {
   "cell_type": "code",
   "execution_count": 14,
   "metadata": {
    "colab": {
     "base_uri": "https://localhost:8080/",
     "height": 487
    },
    "colab_type": "code",
    "id": "APCvRs-Ve1bo",
    "outputId": "df8c8de1-bfe0-446f-85ff-2b1e09a155a3"
   },
   "outputs": [
    {
     "data": {
      "image/png": "[encoded data removed]",
      "text/plain": [
       "<matplotlib.figure.Figure at 0x7f247a00c0b8>"
      ]
     },
     "metadata": {
      "tags": []
     },
     "output_type": "display_data"
    }
   ],
   "source": [
    "fig = plt.figure(figsize=(8,8))\n",
    "for i in range(64):\n",
    "    ax = fig.add_subplot(8,8,i+1)\n",
    "    ax.imshow(images_train[i], cmap = plt.cm.bone)\n",
    "plt.show()"
   ]
  },
  {
   "cell_type": "code",
   "execution_count": 58,
   "metadata": {
    "colab": {
     "base_uri": "https://localhost:8080/",
     "height": 567
    },
    "colab_type": "code",
    "id": "Cq9g9NRse1br",
    "outputId": "645b1466-c2b4-4feb-b4d3-9ef8a88010b3"
   },
   "outputs": [
    {
     "ename": "KeyboardInterrupt",
     "evalue": "ignored",
     "output_type": "error",
     "traceback": [
      "\u001b[0;31m---------------------------------------------------------------------------\u001b[0m",
      "\u001b[0;31mKeyboardInterrupt\u001b[0m                         Traceback (most recent call last)",
      "\u001b[0;32m<ipython-input-58-2eac6d408282>\u001b[0m in \u001b[0;36m<module>\u001b[0;34m()\u001b[0m\n\u001b[1;32m      1\u001b[0m \u001b[0mpca\u001b[0m \u001b[0;34m=\u001b[0m \u001b[0mPCA\u001b[0m\u001b[0;34m(\u001b[0m\u001b[0;34m)\u001b[0m\u001b[0;34m\u001b[0m\u001b[0;34m\u001b[0m\u001b[0m\n\u001b[0;32m----> 2\u001b[0;31m \u001b[0mpca\u001b[0m\u001b[0;34m.\u001b[0m\u001b[0mfit\u001b[0m\u001b[0;34m(\u001b[0m\u001b[0mx_train\u001b[0m\u001b[0;34m)\u001b[0m\u001b[0;34m\u001b[0m\u001b[0;34m\u001b[0m\u001b[0m\n\u001b[0m",
      "\u001b[0;32m/usr/local/lib/python3.6/dist-packages/sklearn/decomposition/pca.py\u001b[0m in \u001b[0;36mfit\u001b[0;34m(self, X, y)\u001b[0m\n\u001b[1;32m    338\u001b[0m             \u001b[0mReturns\u001b[0m \u001b[0mthe\u001b[0m \u001b[0minstance\u001b[0m \u001b[0mitself\u001b[0m\u001b[0;34m.\u001b[0m\u001b[0;34m\u001b[0m\u001b[0;34m\u001b[0m\u001b[0m\n\u001b[1;32m    339\u001b[0m         \"\"\"\n\u001b[0;32m--> 340\u001b[0;31m         \u001b[0mself\u001b[0m\u001b[0;34m.\u001b[0m\u001b[0m_fit\u001b[0m\u001b[0;34m(\u001b[0m\u001b[0mX\u001b[0m\u001b[0;34m)\u001b[0m\u001b[0;34m\u001b[0m\u001b[0;34m\u001b[0m\u001b[0m\n\u001b[0m\u001b[1;32m    341\u001b[0m         \u001b[0;32mreturn\u001b[0m \u001b[0mself\u001b[0m\u001b[0;34m\u001b[0m\u001b[0;34m\u001b[0m\u001b[0m\n\u001b[1;32m    342\u001b[0m \u001b[0;34m\u001b[0m\u001b[0m\n",
      "\u001b[0;32m/usr/local/lib/python3.6/dist-packages/sklearn/decomposition/pca.py\u001b[0m in \u001b[0;36m_fit\u001b[0;34m(self, X)\u001b[0m\n\u001b[1;32m    379\u001b[0m \u001b[0;34m\u001b[0m\u001b[0m\n\u001b[1;32m    380\u001b[0m         X = check_array(X, dtype=[np.float64, np.float32], ensure_2d=True,\n\u001b[0;32m--> 381\u001b[0;31m                         copy=self.copy)\n\u001b[0m\u001b[1;32m    382\u001b[0m \u001b[0;34m\u001b[0m\u001b[0m\n\u001b[1;32m    383\u001b[0m         \u001b[0;31m# Handle n_components==None\u001b[0m\u001b[0;34m\u001b[0m\u001b[0;34m\u001b[0m\u001b[0;34m\u001b[0m\u001b[0m\n",
      "\u001b[0;32m/usr/local/lib/python3.6/dist-packages/sklearn/utils/validation.py\u001b[0m in \u001b[0;36mcheck_array\u001b[0;34m(array, accept_sparse, accept_large_sparse, dtype, order, copy, force_all_finite, ensure_2d, allow_nd, ensure_min_samples, ensure_min_features, warn_on_dtype, estimator)\u001b[0m\n\u001b[1;32m    596\u001b[0m \u001b[0;34m\u001b[0m\u001b[0m\n\u001b[1;32m    597\u001b[0m     \u001b[0;32mif\u001b[0m \u001b[0mcopy\u001b[0m \u001b[0;32mand\u001b[0m \u001b[0mnp\u001b[0m\u001b[0;34m.\u001b[0m\u001b[0mmay_share_memory\u001b[0m\u001b[0;34m(\u001b[0m\u001b[0marray\u001b[0m\u001b[0;34m,\u001b[0m \u001b[0marray_orig\u001b[0m\u001b[0;34m)\u001b[0m\u001b[0;34m:\u001b[0m\u001b[0;34m\u001b[0m\u001b[0;34m\u001b[0m\u001b[0m\n\u001b[0;32m--> 598\u001b[0;31m         \u001b[0marray\u001b[0m \u001b[0;34m=\u001b[0m \u001b[0mnp\u001b[0m\u001b[0;34m.\u001b[0m\u001b[0marray\u001b[0m\u001b[0;34m(\u001b[0m\u001b[0marray\u001b[0m\u001b[0;34m,\u001b[0m \u001b[0mdtype\u001b[0m\u001b[0;34m=\u001b[0m\u001b[0mdtype\u001b[0m\u001b[0;34m,\u001b[0m \u001b[0morder\u001b[0m\u001b[0;34m=\u001b[0m\u001b[0morder\u001b[0m\u001b[0;34m)\u001b[0m\u001b[0;34m\u001b[0m\u001b[0;34m\u001b[0m\u001b[0m\n\u001b[0m\u001b[1;32m    599\u001b[0m \u001b[0;34m\u001b[0m\u001b[0m\n\u001b[1;32m    600\u001b[0m     if (warn_on_dtype and dtypes_orig is not None and\n",
      "\u001b[0;31mKeyboardInterrupt\u001b[0m: "
     ]
    }
   ],
   "source": [
    "pca = PCA()\n",
    "pca.fit(x_train)"
   ]
  },
  {
   "cell_type": "code",
   "execution_count": 0,
   "metadata": {
    "colab": {},
    "colab_type": "code",
    "id": "Rjw8vXObe1bw"
   },
   "outputs": [],
   "source": [
    "pca.components_.shape"
   ]
  },
  {
   "cell_type": "code",
   "execution_count": 20,
   "metadata": {
    "colab": {
     "base_uri": "https://localhost:8080/",
     "height": 35
    },
    "colab_type": "code",
    "id": "D5YsSgROe1b0",
    "outputId": "b7107e95-43bd-472f-9ca1-822fb163c14c"
   },
   "outputs": [
    {
     "name": "stdout",
     "output_type": "stream",
     "text": [
      "658\n"
     ]
    }
   ],
   "source": [
    "k = 0\n",
    "total = sum(pca.explained_variance_)\n",
    "currentsum = 0\n",
    "while currentsum/total < 0.99 :\n",
    "    currentsum += pca.explained_variance_[k]\n",
    "    k = k+1\n",
    "print(k)    "
   ]
  },
  {
   "cell_type": "code",
   "execution_count": 21,
   "metadata": {
    "colab": {
     "base_uri": "https://localhost:8080/",
     "height": 35
    },
    "colab_type": "code",
    "id": "Dxb095FUe1b4",
    "outputId": "4cfeaecf-934b-4175-a729-41694dc6e8f5"
   },
   "outputs": [
    {
     "name": "stdout",
     "output_type": "stream",
     "text": [
      "(50000, 658)\n"
     ]
    }
   ],
   "source": [
    "pca = PCA(n_components=k,whiten=True)\n",
    "transformed_training_data = pca.fit_transform(x_train)\n",
    "print(transformed_training_data.shape)"
   ]
  },
  {
   "cell_type": "code",
   "execution_count": 22,
   "metadata": {
    "colab": {
     "base_uri": "https://localhost:8080/",
     "height": 35
    },
    "colab_type": "code",
    "id": "LUu2UnGhe1b6",
    "outputId": "2e3d141f-bbd4-424a-9b70-f84833412dda"
   },
   "outputs": [
    {
     "name": "stdout",
     "output_type": "stream",
     "text": [
      "(50000, 3072)\n"
     ]
    }
   ],
   "source": [
    "approx_training_data = pca.inverse_transform(transformed_training_data)\n",
    "print(approx_training_data.shape)"
   ]
  },
  {
   "cell_type": "code",
   "execution_count": 0,
   "metadata": {
    "colab": {},
    "colab_type": "code",
    "id": "RSW_wBBAe1b9"
   },
   "outputs": [],
   "source": [
    "approx_data = approx_training_data.reshape((50000,32,32,3))"
   ]
  },
  {
   "cell_type": "code",
   "execution_count": 24,
   "metadata": {
    "colab": {
     "base_uri": "https://localhost:8080/",
     "height": 2214
    },
    "colab_type": "code",
    "id": "j7QH773Fe1b-",
    "outputId": "a954df69-c032-428c-8364-3c55dd861467"
   },
   "outputs": [
    {
     "ename": "ValueError",
     "evalue": "ignored",
     "output_type": "error",
     "traceback": [
      "\u001b[0;31m---------------------------------------------------------------------------\u001b[0m",
      "\u001b[0;31mValueError\u001b[0m                                Traceback (most recent call last)",
      "\u001b[0;32m/usr/local/lib/python3.6/dist-packages/IPython/core/formatters.py\u001b[0m in \u001b[0;36m__call__\u001b[0;34m(self, obj)\u001b[0m\n\u001b[1;32m    332\u001b[0m                 \u001b[0;32mpass\u001b[0m\u001b[0;34m\u001b[0m\u001b[0;34m\u001b[0m\u001b[0m\n\u001b[1;32m    333\u001b[0m             \u001b[0;32melse\u001b[0m\u001b[0;34m:\u001b[0m\u001b[0;34m\u001b[0m\u001b[0;34m\u001b[0m\u001b[0m\n\u001b[0;32m--> 334\u001b[0;31m                 \u001b[0;32mreturn\u001b[0m \u001b[0mprinter\u001b[0m\u001b[0;34m(\u001b[0m\u001b[0mobj\u001b[0m\u001b[0;34m)\u001b[0m\u001b[0;34m\u001b[0m\u001b[0;34m\u001b[0m\u001b[0m\n\u001b[0m\u001b[1;32m    335\u001b[0m             \u001b[0;31m# Finally look for special method names\u001b[0m\u001b[0;34m\u001b[0m\u001b[0;34m\u001b[0m\u001b[0;34m\u001b[0m\u001b[0m\n\u001b[1;32m    336\u001b[0m             \u001b[0mmethod\u001b[0m \u001b[0;34m=\u001b[0m \u001b[0mget_real_method\u001b[0m\u001b[0;34m(\u001b[0m\u001b[0mobj\u001b[0m\u001b[0;34m,\u001b[0m \u001b[0mself\u001b[0m\u001b[0;34m.\u001b[0m\u001b[0mprint_method\u001b[0m\u001b[0;34m)\u001b[0m\u001b[0;34m\u001b[0m\u001b[0;34m\u001b[0m\u001b[0m\n",
      "\u001b[0;32m/usr/local/lib/python3.6/dist-packages/IPython/core/pylabtools.py\u001b[0m in \u001b[0;36m<lambda>\u001b[0;34m(fig)\u001b[0m\n\u001b[1;32m    239\u001b[0m \u001b[0;34m\u001b[0m\u001b[0m\n\u001b[1;32m    240\u001b[0m     \u001b[0;32mif\u001b[0m \u001b[0;34m'png'\u001b[0m \u001b[0;32min\u001b[0m \u001b[0mformats\u001b[0m\u001b[0;34m:\u001b[0m\u001b[0;34m\u001b[0m\u001b[0;34m\u001b[0m\u001b[0m\n\u001b[0;32m--> 241\u001b[0;31m         \u001b[0mpng_formatter\u001b[0m\u001b[0;34m.\u001b[0m\u001b[0mfor_type\u001b[0m\u001b[0;34m(\u001b[0m\u001b[0mFigure\u001b[0m\u001b[0;34m,\u001b[0m \u001b[0;32mlambda\u001b[0m \u001b[0mfig\u001b[0m\u001b[0;34m:\u001b[0m \u001b[0mprint_figure\u001b[0m\u001b[0;34m(\u001b[0m\u001b[0mfig\u001b[0m\u001b[0;34m,\u001b[0m \u001b[0;34m'png'\u001b[0m\u001b[0;34m,\u001b[0m \u001b[0;34m**\u001b[0m\u001b[0mkwargs\u001b[0m\u001b[0;34m)\u001b[0m\u001b[0;34m)\u001b[0m\u001b[0;34m\u001b[0m\u001b[0;34m\u001b[0m\u001b[0m\n\u001b[0m\u001b[1;32m    242\u001b[0m     \u001b[0;32mif\u001b[0m \u001b[0;34m'retina'\u001b[0m \u001b[0;32min\u001b[0m \u001b[0mformats\u001b[0m \u001b[0;32mor\u001b[0m \u001b[0;34m'png2x'\u001b[0m \u001b[0;32min\u001b[0m \u001b[0mformats\u001b[0m\u001b[0;34m:\u001b[0m\u001b[0;34m\u001b[0m\u001b[0;34m\u001b[0m\u001b[0m\n\u001b[1;32m    243\u001b[0m         \u001b[0mpng_formatter\u001b[0m\u001b[0;34m.\u001b[0m\u001b[0mfor_type\u001b[0m\u001b[0;34m(\u001b[0m\u001b[0mFigure\u001b[0m\u001b[0;34m,\u001b[0m \u001b[0;32mlambda\u001b[0m \u001b[0mfig\u001b[0m\u001b[0;34m:\u001b[0m \u001b[0mretina_figure\u001b[0m\u001b[0;34m(\u001b[0m\u001b[0mfig\u001b[0m\u001b[0;34m,\u001b[0m \u001b[0;34m**\u001b[0m\u001b[0mkwargs\u001b[0m\u001b[0;34m)\u001b[0m\u001b[0;34m)\u001b[0m\u001b[0;34m\u001b[0m\u001b[0;34m\u001b[0m\u001b[0m\n",
      "\u001b[0;32m/usr/local/lib/python3.6/dist-packages/IPython/core/pylabtools.py\u001b[0m in \u001b[0;36mprint_figure\u001b[0;34m(fig, fmt, bbox_inches, **kwargs)\u001b[0m\n\u001b[1;32m    123\u001b[0m \u001b[0;34m\u001b[0m\u001b[0m\n\u001b[1;32m    124\u001b[0m     \u001b[0mbytes_io\u001b[0m \u001b[0;34m=\u001b[0m \u001b[0mBytesIO\u001b[0m\u001b[0;34m(\u001b[0m\u001b[0;34m)\u001b[0m\u001b[0;34m\u001b[0m\u001b[0;34m\u001b[0m\u001b[0m\n\u001b[0;32m--> 125\u001b[0;31m     \u001b[0mfig\u001b[0m\u001b[0;34m.\u001b[0m\u001b[0mcanvas\u001b[0m\u001b[0;34m.\u001b[0m\u001b[0mprint_figure\u001b[0m\u001b[0;34m(\u001b[0m\u001b[0mbytes_io\u001b[0m\u001b[0;34m,\u001b[0m \u001b[0;34m**\u001b[0m\u001b[0mkw\u001b[0m\u001b[0;34m)\u001b[0m\u001b[0;34m\u001b[0m\u001b[0;34m\u001b[0m\u001b[0m\n\u001b[0m\u001b[1;32m    126\u001b[0m     \u001b[0mdata\u001b[0m \u001b[0;34m=\u001b[0m \u001b[0mbytes_io\u001b[0m\u001b[0;34m.\u001b[0m\u001b[0mgetvalue\u001b[0m\u001b[0;34m(\u001b[0m\u001b[0;34m)\u001b[0m\u001b[0;34m\u001b[0m\u001b[0;34m\u001b[0m\u001b[0m\n\u001b[1;32m    127\u001b[0m     \u001b[0;32mif\u001b[0m \u001b[0mfmt\u001b[0m \u001b[0;34m==\u001b[0m \u001b[0;34m'svg'\u001b[0m\u001b[0;34m:\u001b[0m\u001b[0;34m\u001b[0m\u001b[0;34m\u001b[0m\u001b[0m\n",
      "\u001b[0;32m/usr/local/lib/python3.6/dist-packages/matplotlib/backend_bases.py\u001b[0m in \u001b[0;36mprint_figure\u001b[0;34m(self, filename, dpi, facecolor, edgecolor, orientation, format, **kwargs)\u001b[0m\n\u001b[1;32m   2214\u001b[0m                     \u001b[0morientation\u001b[0m\u001b[0;34m=\u001b[0m\u001b[0morientation\u001b[0m\u001b[0;34m,\u001b[0m\u001b[0;34m\u001b[0m\u001b[0;34m\u001b[0m\u001b[0m\n\u001b[1;32m   2215\u001b[0m                     \u001b[0mdryrun\u001b[0m\u001b[0;34m=\u001b[0m\u001b[0;32mTrue\u001b[0m\u001b[0;34m,\u001b[0m\u001b[0;34m\u001b[0m\u001b[0;34m\u001b[0m\u001b[0m\n\u001b[0;32m-> 2216\u001b[0;31m                     **kwargs)\n\u001b[0m\u001b[1;32m   2217\u001b[0m                 \u001b[0mrenderer\u001b[0m \u001b[0;34m=\u001b[0m \u001b[0mself\u001b[0m\u001b[0;34m.\u001b[0m\u001b[0mfigure\u001b[0m\u001b[0;34m.\u001b[0m\u001b[0m_cachedRenderer\u001b[0m\u001b[0;34m\u001b[0m\u001b[0;34m\u001b[0m\u001b[0m\n\u001b[1;32m   2218\u001b[0m                 \u001b[0mbbox_inches\u001b[0m \u001b[0;34m=\u001b[0m \u001b[0mself\u001b[0m\u001b[0;34m.\u001b[0m\u001b[0mfigure\u001b[0m\u001b[0;34m.\u001b[0m\u001b[0mget_tightbbox\u001b[0m\u001b[0;34m(\u001b[0m\u001b[0mrenderer\u001b[0m\u001b[0;34m)\u001b[0m\u001b[0;34m\u001b[0m\u001b[0;34m\u001b[0m\u001b[0m\n",
      "\u001b[0;32m/usr/local/lib/python3.6/dist-packages/matplotlib/backends/backend_agg.py\u001b[0m in \u001b[0;36mprint_png\u001b[0;34m(self, filename_or_obj, *args, **kwargs)\u001b[0m\n\u001b[1;32m    505\u001b[0m \u001b[0;34m\u001b[0m\u001b[0m\n\u001b[1;32m    506\u001b[0m     \u001b[0;32mdef\u001b[0m \u001b[0mprint_png\u001b[0m\u001b[0;34m(\u001b[0m\u001b[0mself\u001b[0m\u001b[0;34m,\u001b[0m \u001b[0mfilename_or_obj\u001b[0m\u001b[0;34m,\u001b[0m \u001b[0;34m*\u001b[0m\u001b[0margs\u001b[0m\u001b[0;34m,\u001b[0m \u001b[0;34m**\u001b[0m\u001b[0mkwargs\u001b[0m\u001b[0;34m)\u001b[0m\u001b[0;34m:\u001b[0m\u001b[0;34m\u001b[0m\u001b[0;34m\u001b[0m\u001b[0m\n\u001b[0;32m--> 507\u001b[0;31m         \u001b[0mFigureCanvasAgg\u001b[0m\u001b[0;34m.\u001b[0m\u001b[0mdraw\u001b[0m\u001b[0;34m(\u001b[0m\u001b[0mself\u001b[0m\u001b[0;34m)\u001b[0m\u001b[0;34m\u001b[0m\u001b[0;34m\u001b[0m\u001b[0m\n\u001b[0m\u001b[1;32m    508\u001b[0m         \u001b[0mrenderer\u001b[0m \u001b[0;34m=\u001b[0m \u001b[0mself\u001b[0m\u001b[0;34m.\u001b[0m\u001b[0mget_renderer\u001b[0m\u001b[0;34m(\u001b[0m\u001b[0;34m)\u001b[0m\u001b[0;34m\u001b[0m\u001b[0;34m\u001b[0m\u001b[0m\n\u001b[1;32m    509\u001b[0m         \u001b[0moriginal_dpi\u001b[0m \u001b[0;34m=\u001b[0m \u001b[0mrenderer\u001b[0m\u001b[0;34m.\u001b[0m\u001b[0mdpi\u001b[0m\u001b[0;34m\u001b[0m\u001b[0;34m\u001b[0m\u001b[0m\n",
      "\u001b[0;32m/usr/local/lib/python3.6/dist-packages/matplotlib/backends/backend_agg.py\u001b[0m in \u001b[0;36mdraw\u001b[0;34m(self)\u001b[0m\n\u001b[1;32m    428\u001b[0m             \u001b[0;31m# if toolbar:\u001b[0m\u001b[0;34m\u001b[0m\u001b[0;34m\u001b[0m\u001b[0;34m\u001b[0m\u001b[0m\n\u001b[1;32m    429\u001b[0m             \u001b[0;31m#     toolbar.set_cursor(cursors.WAIT)\u001b[0m\u001b[0;34m\u001b[0m\u001b[0;34m\u001b[0m\u001b[0;34m\u001b[0m\u001b[0m\n\u001b[0;32m--> 430\u001b[0;31m             \u001b[0mself\u001b[0m\u001b[0;34m.\u001b[0m\u001b[0mfigure\u001b[0m\u001b[0;34m.\u001b[0m\u001b[0mdraw\u001b[0m\u001b[0;34m(\u001b[0m\u001b[0mself\u001b[0m\u001b[0;34m.\u001b[0m\u001b[0mrenderer\u001b[0m\u001b[0;34m)\u001b[0m\u001b[0;34m\u001b[0m\u001b[0;34m\u001b[0m\u001b[0m\n\u001b[0m\u001b[1;32m    431\u001b[0m         \u001b[0;32mfinally\u001b[0m\u001b[0;34m:\u001b[0m\u001b[0;34m\u001b[0m\u001b[0;34m\u001b[0m\u001b[0m\n\u001b[1;32m    432\u001b[0m             \u001b[0;31m# if toolbar:\u001b[0m\u001b[0;34m\u001b[0m\u001b[0;34m\u001b[0m\u001b[0;34m\u001b[0m\u001b[0m\n",
      "\u001b[0;32m/usr/local/lib/python3.6/dist-packages/matplotlib/artist.py\u001b[0m in \u001b[0;36mdraw_wrapper\u001b[0;34m(artist, renderer, *args, **kwargs)\u001b[0m\n\u001b[1;32m     53\u001b[0m                 \u001b[0mrenderer\u001b[0m\u001b[0;34m.\u001b[0m\u001b[0mstart_filter\u001b[0m\u001b[0;34m(\u001b[0m\u001b[0;34m)\u001b[0m\u001b[0;34m\u001b[0m\u001b[0;34m\u001b[0m\u001b[0m\n\u001b[1;32m     54\u001b[0m \u001b[0;34m\u001b[0m\u001b[0m\n\u001b[0;32m---> 55\u001b[0;31m             \u001b[0;32mreturn\u001b[0m \u001b[0mdraw\u001b[0m\u001b[0;34m(\u001b[0m\u001b[0martist\u001b[0m\u001b[0;34m,\u001b[0m \u001b[0mrenderer\u001b[0m\u001b[0;34m,\u001b[0m \u001b[0;34m*\u001b[0m\u001b[0margs\u001b[0m\u001b[0;34m,\u001b[0m \u001b[0;34m**\u001b[0m\u001b[0mkwargs\u001b[0m\u001b[0;34m)\u001b[0m\u001b[0;34m\u001b[0m\u001b[0;34m\u001b[0m\u001b[0m\n\u001b[0m\u001b[1;32m     56\u001b[0m         \u001b[0;32mfinally\u001b[0m\u001b[0;34m:\u001b[0m\u001b[0;34m\u001b[0m\u001b[0;34m\u001b[0m\u001b[0m\n\u001b[1;32m     57\u001b[0m             \u001b[0;32mif\u001b[0m \u001b[0martist\u001b[0m\u001b[0;34m.\u001b[0m\u001b[0mget_agg_filter\u001b[0m\u001b[0;34m(\u001b[0m\u001b[0;34m)\u001b[0m \u001b[0;32mis\u001b[0m \u001b[0;32mnot\u001b[0m \u001b[0;32mNone\u001b[0m\u001b[0;34m:\u001b[0m\u001b[0;34m\u001b[0m\u001b[0;34m\u001b[0m\u001b[0m\n",
      "\u001b[0;32m/usr/local/lib/python3.6/dist-packages/matplotlib/figure.py\u001b[0m in \u001b[0;36mdraw\u001b[0;34m(self, renderer)\u001b[0m\n\u001b[1;32m   1297\u001b[0m \u001b[0;34m\u001b[0m\u001b[0m\n\u001b[1;32m   1298\u001b[0m             mimage._draw_list_compositing_images(\n\u001b[0;32m-> 1299\u001b[0;31m                 renderer, self, artists, self.suppressComposite)\n\u001b[0m\u001b[1;32m   1300\u001b[0m \u001b[0;34m\u001b[0m\u001b[0m\n\u001b[1;32m   1301\u001b[0m             \u001b[0mrenderer\u001b[0m\u001b[0;34m.\u001b[0m\u001b[0mclose_group\u001b[0m\u001b[0;34m(\u001b[0m\u001b[0;34m'figure'\u001b[0m\u001b[0;34m)\u001b[0m\u001b[0;34m\u001b[0m\u001b[0;34m\u001b[0m\u001b[0m\n",
      "\u001b[0;32m/usr/local/lib/python3.6/dist-packages/matplotlib/image.py\u001b[0m in \u001b[0;36m_draw_list_compositing_images\u001b[0;34m(renderer, parent, artists, suppress_composite)\u001b[0m\n\u001b[1;32m    136\u001b[0m     \u001b[0;32mif\u001b[0m \u001b[0mnot_composite\u001b[0m \u001b[0;32mor\u001b[0m \u001b[0;32mnot\u001b[0m \u001b[0mhas_images\u001b[0m\u001b[0;34m:\u001b[0m\u001b[0;34m\u001b[0m\u001b[0;34m\u001b[0m\u001b[0m\n\u001b[1;32m    137\u001b[0m         \u001b[0;32mfor\u001b[0m \u001b[0ma\u001b[0m \u001b[0;32min\u001b[0m \u001b[0martists\u001b[0m\u001b[0;34m:\u001b[0m\u001b[0;34m\u001b[0m\u001b[0;34m\u001b[0m\u001b[0m\n\u001b[0;32m--> 138\u001b[0;31m             \u001b[0ma\u001b[0m\u001b[0;34m.\u001b[0m\u001b[0mdraw\u001b[0m\u001b[0;34m(\u001b[0m\u001b[0mrenderer\u001b[0m\u001b[0;34m)\u001b[0m\u001b[0;34m\u001b[0m\u001b[0;34m\u001b[0m\u001b[0m\n\u001b[0m\u001b[1;32m    139\u001b[0m     \u001b[0;32melse\u001b[0m\u001b[0;34m:\u001b[0m\u001b[0;34m\u001b[0m\u001b[0;34m\u001b[0m\u001b[0m\n\u001b[1;32m    140\u001b[0m         \u001b[0;31m# Composite any adjacent images together\u001b[0m\u001b[0;34m\u001b[0m\u001b[0;34m\u001b[0m\u001b[0;34m\u001b[0m\u001b[0m\n",
      "\u001b[0;32m/usr/local/lib/python3.6/dist-packages/matplotlib/artist.py\u001b[0m in \u001b[0;36mdraw_wrapper\u001b[0;34m(artist, renderer, *args, **kwargs)\u001b[0m\n\u001b[1;32m     53\u001b[0m                 \u001b[0mrenderer\u001b[0m\u001b[0;34m.\u001b[0m\u001b[0mstart_filter\u001b[0m\u001b[0;34m(\u001b[0m\u001b[0;34m)\u001b[0m\u001b[0;34m\u001b[0m\u001b[0;34m\u001b[0m\u001b[0m\n\u001b[1;32m     54\u001b[0m \u001b[0;34m\u001b[0m\u001b[0m\n\u001b[0;32m---> 55\u001b[0;31m             \u001b[0;32mreturn\u001b[0m \u001b[0mdraw\u001b[0m\u001b[0;34m(\u001b[0m\u001b[0martist\u001b[0m\u001b[0;34m,\u001b[0m \u001b[0mrenderer\u001b[0m\u001b[0;34m,\u001b[0m \u001b[0;34m*\u001b[0m\u001b[0margs\u001b[0m\u001b[0;34m,\u001b[0m \u001b[0;34m**\u001b[0m\u001b[0mkwargs\u001b[0m\u001b[0;34m)\u001b[0m\u001b[0;34m\u001b[0m\u001b[0;34m\u001b[0m\u001b[0m\n\u001b[0m\u001b[1;32m     56\u001b[0m         \u001b[0;32mfinally\u001b[0m\u001b[0;34m:\u001b[0m\u001b[0;34m\u001b[0m\u001b[0;34m\u001b[0m\u001b[0m\n\u001b[1;32m     57\u001b[0m             \u001b[0;32mif\u001b[0m \u001b[0martist\u001b[0m\u001b[0;34m.\u001b[0m\u001b[0mget_agg_filter\u001b[0m\u001b[0;34m(\u001b[0m\u001b[0;34m)\u001b[0m \u001b[0;32mis\u001b[0m \u001b[0;32mnot\u001b[0m \u001b[0;32mNone\u001b[0m\u001b[0;34m:\u001b[0m\u001b[0;34m\u001b[0m\u001b[0;34m\u001b[0m\u001b[0m\n",
      "\u001b[0;32m/usr/local/lib/python3.6/dist-packages/matplotlib/axes/_base.py\u001b[0m in \u001b[0;36mdraw\u001b[0;34m(self, renderer, inframe)\u001b[0m\n\u001b[1;32m   2435\u001b[0m             \u001b[0mrenderer\u001b[0m\u001b[0;34m.\u001b[0m\u001b[0mstop_rasterizing\u001b[0m\u001b[0;34m(\u001b[0m\u001b[0;34m)\u001b[0m\u001b[0;34m\u001b[0m\u001b[0;34m\u001b[0m\u001b[0m\n\u001b[1;32m   2436\u001b[0m \u001b[0;34m\u001b[0m\u001b[0m\n\u001b[0;32m-> 2437\u001b[0;31m         \u001b[0mmimage\u001b[0m\u001b[0;34m.\u001b[0m\u001b[0m_draw_list_compositing_images\u001b[0m\u001b[0;34m(\u001b[0m\u001b[0mrenderer\u001b[0m\u001b[0;34m,\u001b[0m \u001b[0mself\u001b[0m\u001b[0;34m,\u001b[0m \u001b[0martists\u001b[0m\u001b[0;34m)\u001b[0m\u001b[0;34m\u001b[0m\u001b[0;34m\u001b[0m\u001b[0m\n\u001b[0m\u001b[1;32m   2438\u001b[0m \u001b[0;34m\u001b[0m\u001b[0m\n\u001b[1;32m   2439\u001b[0m         \u001b[0mrenderer\u001b[0m\u001b[0;34m.\u001b[0m\u001b[0mclose_group\u001b[0m\u001b[0;34m(\u001b[0m\u001b[0;34m'axes'\u001b[0m\u001b[0;34m)\u001b[0m\u001b[0;34m\u001b[0m\u001b[0;34m\u001b[0m\u001b[0m\n",
      "\u001b[0;32m/usr/local/lib/python3.6/dist-packages/matplotlib/image.py\u001b[0m in \u001b[0;36m_draw_list_compositing_images\u001b[0;34m(renderer, parent, artists, suppress_composite)\u001b[0m\n\u001b[1;32m    136\u001b[0m     \u001b[0;32mif\u001b[0m \u001b[0mnot_composite\u001b[0m \u001b[0;32mor\u001b[0m \u001b[0;32mnot\u001b[0m \u001b[0mhas_images\u001b[0m\u001b[0;34m:\u001b[0m\u001b[0;34m\u001b[0m\u001b[0;34m\u001b[0m\u001b[0m\n\u001b[1;32m    137\u001b[0m         \u001b[0;32mfor\u001b[0m \u001b[0ma\u001b[0m \u001b[0;32min\u001b[0m \u001b[0martists\u001b[0m\u001b[0;34m:\u001b[0m\u001b[0;34m\u001b[0m\u001b[0;34m\u001b[0m\u001b[0m\n\u001b[0;32m--> 138\u001b[0;31m             \u001b[0ma\u001b[0m\u001b[0;34m.\u001b[0m\u001b[0mdraw\u001b[0m\u001b[0;34m(\u001b[0m\u001b[0mrenderer\u001b[0m\u001b[0;34m)\u001b[0m\u001b[0;34m\u001b[0m\u001b[0;34m\u001b[0m\u001b[0m\n\u001b[0m\u001b[1;32m    139\u001b[0m     \u001b[0;32melse\u001b[0m\u001b[0;34m:\u001b[0m\u001b[0;34m\u001b[0m\u001b[0;34m\u001b[0m\u001b[0m\n\u001b[1;32m    140\u001b[0m         \u001b[0;31m# Composite any adjacent images together\u001b[0m\u001b[0;34m\u001b[0m\u001b[0;34m\u001b[0m\u001b[0;34m\u001b[0m\u001b[0m\n",
      "\u001b[0;32m/usr/local/lib/python3.6/dist-packages/matplotlib/artist.py\u001b[0m in \u001b[0;36mdraw_wrapper\u001b[0;34m(artist, renderer, *args, **kwargs)\u001b[0m\n\u001b[1;32m     53\u001b[0m                 \u001b[0mrenderer\u001b[0m\u001b[0;34m.\u001b[0m\u001b[0mstart_filter\u001b[0m\u001b[0;34m(\u001b[0m\u001b[0;34m)\u001b[0m\u001b[0;34m\u001b[0m\u001b[0;34m\u001b[0m\u001b[0m\n\u001b[1;32m     54\u001b[0m \u001b[0;34m\u001b[0m\u001b[0m\n\u001b[0;32m---> 55\u001b[0;31m             \u001b[0;32mreturn\u001b[0m \u001b[0mdraw\u001b[0m\u001b[0;34m(\u001b[0m\u001b[0martist\u001b[0m\u001b[0;34m,\u001b[0m \u001b[0mrenderer\u001b[0m\u001b[0;34m,\u001b[0m \u001b[0;34m*\u001b[0m\u001b[0margs\u001b[0m\u001b[0;34m,\u001b[0m \u001b[0;34m**\u001b[0m\u001b[0mkwargs\u001b[0m\u001b[0;34m)\u001b[0m\u001b[0;34m\u001b[0m\u001b[0;34m\u001b[0m\u001b[0m\n\u001b[0m\u001b[1;32m     56\u001b[0m         \u001b[0;32mfinally\u001b[0m\u001b[0;34m:\u001b[0m\u001b[0;34m\u001b[0m\u001b[0;34m\u001b[0m\u001b[0m\n\u001b[1;32m     57\u001b[0m             \u001b[0;32mif\u001b[0m \u001b[0martist\u001b[0m\u001b[0;34m.\u001b[0m\u001b[0mget_agg_filter\u001b[0m\u001b[0;34m(\u001b[0m\u001b[0;34m)\u001b[0m \u001b[0;32mis\u001b[0m \u001b[0;32mnot\u001b[0m \u001b[0;32mNone\u001b[0m\u001b[0;34m:\u001b[0m\u001b[0;34m\u001b[0m\u001b[0;34m\u001b[0m\u001b[0m\n",
      "\u001b[0;32m/usr/local/lib/python3.6/dist-packages/matplotlib/image.py\u001b[0m in \u001b[0;36mdraw\u001b[0;34m(self, renderer, *args, **kwargs)\u001b[0m\n\u001b[1;32m    564\u001b[0m         \u001b[0;32melse\u001b[0m\u001b[0;34m:\u001b[0m\u001b[0;34m\u001b[0m\u001b[0;34m\u001b[0m\u001b[0m\n\u001b[1;32m    565\u001b[0m             im, l, b, trans = self.make_image(\n\u001b[0;32m--> 566\u001b[0;31m                 renderer, renderer.get_image_magnification())\n\u001b[0m\u001b[1;32m    567\u001b[0m             \u001b[0;32mif\u001b[0m \u001b[0mim\u001b[0m \u001b[0;32mis\u001b[0m \u001b[0;32mnot\u001b[0m \u001b[0;32mNone\u001b[0m\u001b[0;34m:\u001b[0m\u001b[0;34m\u001b[0m\u001b[0;34m\u001b[0m\u001b[0m\n\u001b[1;32m    568\u001b[0m                 \u001b[0mrenderer\u001b[0m\u001b[0;34m.\u001b[0m\u001b[0mdraw_image\u001b[0m\u001b[0;34m(\u001b[0m\u001b[0mgc\u001b[0m\u001b[0;34m,\u001b[0m \u001b[0ml\u001b[0m\u001b[0;34m,\u001b[0m \u001b[0mb\u001b[0m\u001b[0;34m,\u001b[0m \u001b[0mim\u001b[0m\u001b[0;34m)\u001b[0m\u001b[0;34m\u001b[0m\u001b[0;34m\u001b[0m\u001b[0m\n",
      "\u001b[0;32m/usr/local/lib/python3.6/dist-packages/matplotlib/image.py\u001b[0m in \u001b[0;36mmake_image\u001b[0;34m(self, renderer, magnification, unsampled)\u001b[0m\n\u001b[1;32m    791\u001b[0m         return self._make_image(\n\u001b[1;32m    792\u001b[0m             \u001b[0mself\u001b[0m\u001b[0;34m.\u001b[0m\u001b[0m_A\u001b[0m\u001b[0;34m,\u001b[0m \u001b[0mbbox\u001b[0m\u001b[0;34m,\u001b[0m \u001b[0mtransformed_bbox\u001b[0m\u001b[0;34m,\u001b[0m \u001b[0mself\u001b[0m\u001b[0;34m.\u001b[0m\u001b[0maxes\u001b[0m\u001b[0;34m.\u001b[0m\u001b[0mbbox\u001b[0m\u001b[0;34m,\u001b[0m \u001b[0mmagnification\u001b[0m\u001b[0;34m,\u001b[0m\u001b[0;34m\u001b[0m\u001b[0;34m\u001b[0m\u001b[0m\n\u001b[0;32m--> 793\u001b[0;31m             unsampled=unsampled)\n\u001b[0m\u001b[1;32m    794\u001b[0m \u001b[0;34m\u001b[0m\u001b[0m\n\u001b[1;32m    795\u001b[0m     \u001b[0;32mdef\u001b[0m \u001b[0m_check_unsampled_image\u001b[0m\u001b[0;34m(\u001b[0m\u001b[0mself\u001b[0m\u001b[0;34m,\u001b[0m \u001b[0mrenderer\u001b[0m\u001b[0;34m)\u001b[0m\u001b[0;34m:\u001b[0m\u001b[0;34m\u001b[0m\u001b[0;34m\u001b[0m\u001b[0m\n",
      "\u001b[0;32m/usr/local/lib/python3.6/dist-packages/matplotlib/image.py\u001b[0m in \u001b[0;36m_make_image\u001b[0;34m(self, A, in_bbox, out_bbox, clip_bbox, magnification, unsampled, round_to_pixel_border)\u001b[0m\n\u001b[1;32m    482\u001b[0m             \u001b[0;31m# (of int or float)\u001b[0m\u001b[0;34m\u001b[0m\u001b[0;34m\u001b[0m\u001b[0;34m\u001b[0m\u001b[0m\n\u001b[1;32m    483\u001b[0m             \u001b[0;31m# or an RGBA array of re-sampled input\u001b[0m\u001b[0;34m\u001b[0m\u001b[0;34m\u001b[0m\u001b[0;34m\u001b[0m\u001b[0m\n\u001b[0;32m--> 484\u001b[0;31m             \u001b[0moutput\u001b[0m \u001b[0;34m=\u001b[0m \u001b[0mself\u001b[0m\u001b[0;34m.\u001b[0m\u001b[0mto_rgba\u001b[0m\u001b[0;34m(\u001b[0m\u001b[0moutput\u001b[0m\u001b[0;34m,\u001b[0m \u001b[0mbytes\u001b[0m\u001b[0;34m=\u001b[0m\u001b[0;32mTrue\u001b[0m\u001b[0;34m,\u001b[0m \u001b[0mnorm\u001b[0m\u001b[0;34m=\u001b[0m\u001b[0;32mFalse\u001b[0m\u001b[0;34m)\u001b[0m\u001b[0;34m\u001b[0m\u001b[0;34m\u001b[0m\u001b[0m\n\u001b[0m\u001b[1;32m    485\u001b[0m             \u001b[0;31m# output is now a correctly sized RGBA array of uint8\u001b[0m\u001b[0;34m\u001b[0m\u001b[0;34m\u001b[0m\u001b[0;34m\u001b[0m\u001b[0m\n\u001b[1;32m    486\u001b[0m \u001b[0;34m\u001b[0m\u001b[0m\n",
      "\u001b[0;32m/usr/local/lib/python3.6/dist-packages/matplotlib/cm.py\u001b[0m in \u001b[0;36mto_rgba\u001b[0;34m(self, x, alpha, bytes, norm)\u001b[0m\n\u001b[1;32m    255\u001b[0m                 \u001b[0;32mif\u001b[0m \u001b[0mxx\u001b[0m\u001b[0;34m.\u001b[0m\u001b[0mdtype\u001b[0m\u001b[0;34m.\u001b[0m\u001b[0mkind\u001b[0m \u001b[0;34m==\u001b[0m \u001b[0;34m'f'\u001b[0m\u001b[0;34m:\u001b[0m\u001b[0;34m\u001b[0m\u001b[0;34m\u001b[0m\u001b[0m\n\u001b[1;32m    256\u001b[0m                     \u001b[0;32mif\u001b[0m \u001b[0mnorm\u001b[0m \u001b[0;32mand\u001b[0m \u001b[0mxx\u001b[0m\u001b[0;34m.\u001b[0m\u001b[0mmax\u001b[0m\u001b[0;34m(\u001b[0m\u001b[0;34m)\u001b[0m \u001b[0;34m>\u001b[0m \u001b[0;36m1\u001b[0m \u001b[0;32mor\u001b[0m \u001b[0mxx\u001b[0m\u001b[0;34m.\u001b[0m\u001b[0mmin\u001b[0m\u001b[0;34m(\u001b[0m\u001b[0;34m)\u001b[0m \u001b[0;34m<\u001b[0m \u001b[0;36m0\u001b[0m\u001b[0;34m:\u001b[0m\u001b[0;34m\u001b[0m\u001b[0;34m\u001b[0m\u001b[0m\n\u001b[0;32m--> 257\u001b[0;31m                         raise ValueError(\"Floating point image RGB values \"\n\u001b[0m\u001b[1;32m    258\u001b[0m                                          \"must be in the 0..1 range.\")\n\u001b[1;32m    259\u001b[0m                     \u001b[0;32mif\u001b[0m \u001b[0mbytes\u001b[0m\u001b[0;34m:\u001b[0m\u001b[0;34m\u001b[0m\u001b[0;34m\u001b[0m\u001b[0m\n",
      "\u001b[0;31mValueError\u001b[0m: Floating point image RGB values must be in the 0..1 range."
     ]
    },
    {
     "data": {
      "text/plain": [
       "<matplotlib.figure.Figure at 0x7f55e587aba8>"
      ]
     },
     "metadata": {
      "tags": []
     },
     "output_type": "display_data"
    }
   ],
   "source": [
    "fig = plt.figure(figsize=(8,8))\n",
    "for i in range(64):\n",
    "    ax = fig.add_subplot(8,8,i+1)\n",
    "    ax.imshow(approx_data[i], cmap = plt.cm.bone)\n",
    "plt.show()"
   ]
  },
  {
   "cell_type": "code",
   "execution_count": 0,
   "metadata": {
    "colab": {},
    "colab_type": "code",
    "id": "2z96Ezc5e1cB"
   },
   "outputs": [],
   "source": [
    "transformed_testing_data = pca.transform(x_test)"
   ]
  },
  {
   "cell_type": "code",
   "execution_count": 32,
   "metadata": {
    "colab": {
     "base_uri": "https://localhost:8080/",
     "height": 557
    },
    "colab_type": "code",
    "id": "9Si2Vgche1cD",
    "outputId": "14e09a8a-1300-4f73-f145-5b8e6adf63af"
   },
   "outputs": [
    {
     "name": "stderr",
     "output_type": "stream",
     "text": [
      "/usr/local/lib/python3.6/dist-packages/sklearn/ensemble/forest.py:246: FutureWarning: The default value of n_estimators will change from 10 in version 0.20 to 100 in 0.22.\n",
      "  \"10 in version 0.20 to 100 in 0.22.\", FutureWarning)\n"
     ]
    },
    {
     "name": "stdout",
     "output_type": "stream",
     "text": [
      "              precision    recall  f1-score   support\n",
      "\n",
      "           0       0.24      0.40      0.30      1000\n",
      "           1       0.25      0.34      0.29      1000\n",
      "           2       0.16      0.21      0.18      1000\n",
      "           3       0.15      0.16      0.16      1000\n",
      "           4       0.24      0.24      0.24      1000\n",
      "           5       0.18      0.15      0.17      1000\n",
      "           6       0.27      0.21      0.24      1000\n",
      "           7       0.22      0.14      0.17      1000\n",
      "           8       0.39      0.30      0.34      1000\n",
      "           9       0.29      0.18      0.22      1000\n",
      "\n",
      "   micro avg       0.23      0.23      0.23     10000\n",
      "   macro avg       0.24      0.23      0.23     10000\n",
      "weighted avg       0.24      0.23      0.23     10000\n",
      "\n",
      "[[403  79 112  70  48  43  35  45 122  43]\n",
      " [133 335  65  66  43  87  39  51  64 117]\n",
      " [173  89 215 127 137  54  88  48  37  32]\n",
      " [150 110 157 164  98 136  84  54  26  21]\n",
      " [124  49 211 105 237  61  92  59  27  35]\n",
      " [109 113 162 164  85 153  87  53  40  34]\n",
      " [ 80  93 153 115 129 104 211  65  26  24]\n",
      " [124 139 124 125  98  91  59 135  46  59]\n",
      " [228 110  75  59  57  50  33  25 300  63]\n",
      " [134 227  71  78  47  61  45  83  78 176]]\n",
      "0.2329\n"
     ]
    }
   ],
   "source": [
    "rf = RandomForestClassifier()\n",
    "rf.fit(transformed_training_data,y_train)\n",
    "y_predict_rf = rf.predict(transformed_testing_data)\n",
    "print(classification_report(y_test,y_predict_rf))\n",
    "print(confusion_matrix(y_test,y_predict_rf))\n",
    "print(accuracy_score(y_test,y_predict_rf))"
   ]
  },
  {
   "cell_type": "code",
   "execution_count": 33,
   "metadata": {
    "colab": {
     "base_uri": "https://localhost:8080/",
     "height": 503
    },
    "colab_type": "code",
    "id": "Yhn-RYUNe1cE",
    "outputId": "12cd66bd-1bb6-4d77-ba21-ccab1f879e78"
   },
   "outputs": [
    {
     "name": "stdout",
     "output_type": "stream",
     "text": [
      "              precision    recall  f1-score   support\n",
      "\n",
      "           0       0.17      0.17      0.17      1000\n",
      "           1       1.00      0.02      0.03      1000\n",
      "           2       0.29      0.05      0.09      1000\n",
      "           3       0.23      0.02      0.03      1000\n",
      "           4       0.18      0.30      0.22      1000\n",
      "           5       0.36      0.00      0.01      1000\n",
      "           6       0.52      0.01      0.03      1000\n",
      "           7       1.00      0.00      0.00      1000\n",
      "           8       0.13      0.87      0.22      1000\n",
      "           9       1.00      0.00      0.00      1000\n",
      "\n",
      "   micro avg       0.15      0.15      0.15     10000\n",
      "   macro avg       0.49      0.15      0.08     10000\n",
      "weighted avg       0.49      0.15      0.08     10000\n",
      "\n",
      "[[172   0  19   3  68   1   1   0 736   0]\n",
      " [115  17  10   5 118   0   3   0 732   0]\n",
      " [ 92   0  53   5 197   2   1   0 650   0]\n",
      " [ 87   0  23  16 193   0   0   0 681   0]\n",
      " [ 70   0   7   1 305   0   1   0 616   0]\n",
      " [101   0  23   7 169   4   1   0 695   0]\n",
      " [ 76   0   9  12 235   1  13   0 654   0]\n",
      " [111   0  25   8 239   1   3   2 611   0]\n",
      " [ 74   0   3   1  47   0   1   0 874   0]\n",
      " [ 93   0  13  13 143   2   1   0 734   1]]\n",
      "0.1457\n"
     ]
    }
   ],
   "source": [
    "knn = KNeighborsClassifier()\n",
    "knn.fit(transformed_training_data,y_train)\n",
    "y_predict_knn = knn.predict(transformed_testing_data)\n",
    "print(classification_report(y_test,y_predict_knn))\n",
    "print(confusion_matrix(y_test,y_predict_knn))\n",
    "print(accuracy_score(y_test,y_predict_knn))"
   ]
  },
  {
   "cell_type": "code",
   "execution_count": 34,
   "metadata": {
    "colab": {
     "base_uri": "https://localhost:8080/",
     "height": 592
    },
    "colab_type": "code",
    "id": "CA4gMZTUe1cH",
    "outputId": "be5a2aaf-472e-4f08-9aa3-82b232b4017d"
   },
   "outputs": [
    {
     "name": "stderr",
     "output_type": "stream",
     "text": [
      "/usr/local/lib/python3.6/dist-packages/sklearn/linear_model/logistic.py:433: FutureWarning: Default solver will be changed to 'lbfgs' in 0.22. Specify a solver to silence this warning.\n",
      "  FutureWarning)\n",
      "/usr/local/lib/python3.6/dist-packages/sklearn/linear_model/logistic.py:460: FutureWarning: Default multi_class will be changed to 'auto' in 0.22. Specify the multi_class option to silence this warning.\n",
      "  \"this warning.\", FutureWarning)\n"
     ]
    },
    {
     "name": "stdout",
     "output_type": "stream",
     "text": [
      "              precision    recall  f1-score   support\n",
      "\n",
      "           0       0.45      0.50      0.48      1000\n",
      "           1       0.45      0.47      0.46      1000\n",
      "           2       0.32      0.27      0.29      1000\n",
      "           3       0.27      0.23      0.25      1000\n",
      "           4       0.36      0.28      0.32      1000\n",
      "           5       0.33      0.34      0.33      1000\n",
      "           6       0.40      0.47      0.43      1000\n",
      "           7       0.45      0.44      0.44      1000\n",
      "           8       0.48      0.54      0.51      1000\n",
      "           9       0.44      0.46      0.45      1000\n",
      "\n",
      "   micro avg       0.40      0.40      0.40     10000\n",
      "   macro avg       0.39      0.40      0.40     10000\n",
      "weighted avg       0.39      0.40      0.40     10000\n",
      "\n",
      "[[502  53  48  24  23  27  24  50 175  74]\n",
      " [ 59 473  23  36  31  43  38  52  80 165]\n",
      " [101  48 272  85 110  79 146  84  52  23]\n",
      " [ 49  60  88 226  64 204 143  49  46  71]\n",
      " [ 60  24 139  65 284  92 176 107  26  27]\n",
      " [ 42  50  87 161  79 337  89  75  50  30]\n",
      " [ 31  44  76 106  86  92 474  44  22  25]\n",
      " [ 52  48  70  71  84  83  37 440  38  77]\n",
      " [138  72  21  24  13  46  17  29 538 102]\n",
      " [ 74 174  21  29  19  33  48  57  83 462]]\n",
      "0.4008\n"
     ]
    }
   ],
   "source": [
    "lr = LogisticRegression()\n",
    "lr.fit(transformed_training_data,y_train)\n",
    "y_predict_lr = lr.predict(transformed_testing_data)\n",
    "print(classification_report(y_test,y_predict_lr))\n",
    "print(confusion_matrix(y_test,y_predict_lr))\n",
    "print(accuracy_score(y_test,y_predict_lr))"
   ]
  },
  {
   "cell_type": "code",
   "execution_count": 35,
   "metadata": {
    "colab": {
     "base_uri": "https://localhost:8080/",
     "height": 503
    },
    "colab_type": "code",
    "id": "iDSHwOhfe1cJ",
    "outputId": "3ee818ac-1f17-48b2-a9f3-085daf288802"
   },
   "outputs": [
    {
     "name": "stdout",
     "output_type": "stream",
     "text": [
      "              precision    recall  f1-score   support\n",
      "\n",
      "           0       0.49      0.54      0.51      1000\n",
      "           1       0.51      0.54      0.52      1000\n",
      "           2       0.31      0.27      0.29      1000\n",
      "           3       0.31      0.28      0.30      1000\n",
      "           4       0.40      0.36      0.38      1000\n",
      "           5       0.41      0.32      0.36      1000\n",
      "           6       0.44      0.56      0.49      1000\n",
      "           7       0.50      0.44      0.47      1000\n",
      "           8       0.48      0.58      0.53      1000\n",
      "           9       0.45      0.49      0.47      1000\n",
      "\n",
      "   micro avg       0.44      0.44      0.44     10000\n",
      "   macro avg       0.43      0.44      0.43     10000\n",
      "weighted avg       0.43      0.44      0.43     10000\n",
      "\n",
      "[[535  44  51  29  26  15  21  33 193  53]\n",
      " [ 44 536  28  35  11  23  41  29  85 168]\n",
      " [115  35 272  88 152  57 132  59  58  32]\n",
      " [ 53  47  91 280  61 164 127  64  49  64]\n",
      " [ 59  16 152  77 356  34 163  85  31  27]\n",
      " [ 34  35  95 202  61 317  96  79  45  36]\n",
      " [ 13  36  91  66 107  39 555  41  17  35]\n",
      " [ 47  51  48  69  75  79  61 439  44  87]\n",
      " [123  75  24  22  18  33  13  13 581  98]\n",
      " [ 61 177  19  28  14  18  47  44 106 486]]\n",
      "0.4357\n"
     ]
    }
   ],
   "source": [
    "xgb = XGBClassifier()\n",
    "xgb.fit(transformed_training_data,y_train)\n",
    "y_predict_xgb = xgb.predict(transformed_testing_data)\n",
    "print(classification_report(y_test,y_predict_xgb))\n",
    "print(confusion_matrix(y_test,y_predict_xgb))\n",
    "print(accuracy_score(y_test,y_predict_xgb))"
   ]
  },
  {
   "cell_type": "code",
   "execution_count": 0,
   "metadata": {
    "colab": {},
    "colab_type": "code",
    "id": "fgXiGPtje1cM"
   },
   "outputs": [],
   "source": [
    "svc = svm.SVC()\n",
    "svc.fit(transformed_training_data,y_train)\n",
    "y_predict_svc = svc.predict(transformed_testing_data)\n",
    "print(classification_report(y_test,y_predict_svc))\n",
    "print(confusion_matrix(y_test,y_predict_svc))\n",
    "print(accuracy_score(y_test,y_predict_svc))"
   ]
  },
  {
   "cell_type": "code",
   "execution_count": 0,
   "metadata": {
    "colab": {},
    "colab_type": "code",
    "id": "A47w1SUye1cO"
   },
   "outputs": [],
   "source": [
    "import tensorflow as tf"
   ]
  },
  {
   "cell_type": "code",
   "execution_count": 0,
   "metadata": {
    "colab": {},
    "colab_type": "code",
    "id": "9lUjdVdje1cQ"
   },
   "outputs": [],
   "source": [
    "n_input = 658\n",
    "n_hidden_1 = 300\n",
    "n_hidden_2 = 300\n",
    "n_classes = 10\n",
    "\n",
    "weights = {\n",
    "    'h1': tf.Variable(tf.random_normal([n_input, n_hidden_1])),\n",
    "    'h2': tf.Variable(tf.random_normal([n_hidden_1, n_hidden_2])),\n",
    "    'out': tf.Variable(tf.random_normal([n_hidden_2, n_classes]))\n",
    "}\n",
    "\n",
    "biases = {\n",
    "    'h1': tf.Variable(tf.random_normal([n_hidden_1])),\n",
    "    'h2': tf.Variable(tf.random_normal([n_hidden_2])),\n",
    "    'out': tf.Variable(tf.random_normal([n_classes]))\n",
    "}"
   ]
  },
  {
   "cell_type": "code",
   "execution_count": 28,
   "metadata": {
    "colab": {
     "base_uri": "https://localhost:8080/",
     "height": 52
    },
    "colab_type": "code",
    "id": "BrN08Lxce1cS",
    "outputId": "ae5abfb6-f98a-4ff7-a6b3-9a466d6c1e1a"
   },
   "outputs": [
    {
     "name": "stdout",
     "output_type": "stream",
     "text": [
      "(50000, 10)\n",
      "[0. 0. 0. 0. 0. 0. 1. 0. 0. 0.]\n"
     ]
    }
   ],
   "source": [
    "from numpy import array\n",
    "from numpy import argmax\n",
    "from keras.utils import to_categorical\n",
    "data_train = y_train\n",
    "data_test = y_test\n",
    "data_train = array(data_train)\n",
    "data_test = array(data_test)\n",
    "encoded_train = to_categorical(data_train)\n",
    "encoded_test = to_categorical(data_test)\n",
    "print(encoded_train.shape)\n",
    "print(encoded_train[0])"
   ]
  },
  {
   "cell_type": "code",
   "execution_count": 0,
   "metadata": {
    "colab": {},
    "colab_type": "code",
    "id": "ylPxQY4Ee1cX"
   },
   "outputs": [],
   "source": [
    "def forward_propagation(x, weights, biases):\n",
    "    in_layer1 = tf.add(tf.matmul(x, weights['h1']), biases['h1'])\n",
    "    out_layer1 = tf.nn.relu(in_layer1)\n",
    "    \n",
    "    in_layer2 = tf.add(tf.matmul(out_layer1, weights['h2']), biases['h2'])\n",
    "    out_layer2 = tf.nn.relu(in_layer2)\n",
    "    \n",
    "    output = tf.add(tf.matmul(out_layer2, weights['out']), biases['out'])\n",
    "    return output"
   ]
  },
  {
   "cell_type": "code",
   "execution_count": 0,
   "metadata": {
    "colab": {},
    "colab_type": "code",
    "id": "NZ1HNvEje1ca"
   },
   "outputs": [],
   "source": [
    "x = tf.placeholder(\"float\", [None, n_input])\n",
    "y = tf.placeholder(tf.int32, [None, n_classes])\n",
    "pred = forward_propagation(x, weights, biases)"
   ]
  },
  {
   "cell_type": "code",
   "execution_count": 31,
   "metadata": {
    "colab": {
     "base_uri": "https://localhost:8080/",
     "height": 176
    },
    "colab_type": "code",
    "id": "fp608u9-e1cb",
    "outputId": "be0640d2-4272-49e7-bfc1-b3056e2c96f5"
   },
   "outputs": [
    {
     "name": "stdout",
     "output_type": "stream",
     "text": [
      "WARNING:tensorflow:From <ipython-input-31-a79e7b39d15c>:1: softmax_cross_entropy_with_logits (from tensorflow.python.ops.nn_ops) is deprecated and will be removed in a future version.\n",
      "Instructions for updating:\n",
      "\n",
      "Future major versions of TensorFlow will allow gradients to flow\n",
      "into the labels input on backprop by default.\n",
      "\n",
      "See `tf.nn.softmax_cross_entropy_with_logits_v2`.\n",
      "\n"
     ]
    }
   ],
   "source": [
    "cost = tf.reduce_mean(tf.nn.softmax_cross_entropy_with_logits(logits=pred, labels = y))\n",
    "optimizer = tf.train.AdamOptimizer(learning_rate=0.01)\n",
    "optimize = optimizer.minimize(cost)"
   ]
  },
  {
   "cell_type": "code",
   "execution_count": 0,
   "metadata": {
    "colab": {},
    "colab_type": "code",
    "id": "lnbiRfFKe1cf"
   },
   "outputs": [],
   "source": [
    "sess = tf.Session()\n",
    "sess.run(tf.global_variables_initializer())"
   ]
  },
  {
   "cell_type": "code",
   "execution_count": 33,
   "metadata": {
    "colab": {
     "base_uri": "https://localhost:8080/",
     "height": 1751
    },
    "colab_type": "code",
    "id": "wyfvgjxwe1cg",
    "outputId": "4faf738b-bf51-44bc-8daa-1f4fca50dfbd"
   },
   "outputs": [
    {
     "name": "stdout",
     "output_type": "stream",
     "text": [
      "5556.457\n",
      "4363.728\n",
      "3953.82\n",
      "3945.263\n",
      "3856.4663\n",
      "3519.554\n",
      "3139.9167\n",
      "2859.905\n",
      "2684.752\n",
      "2583.2295\n",
      "2508.0042\n",
      "2392.793\n",
      "2220.8818\n",
      "2036.0563\n",
      "1893.047\n",
      "1807.9484\n",
      "1757.0592\n",
      "1706.2787\n",
      "1635.8864\n",
      "1548.6595\n",
      "1460.2346\n",
      "1384.1802\n",
      "1323.0376\n",
      "1274.666\n",
      "1236.2231\n",
      "1199.9152\n",
      "1154.7118\n",
      "1101.1227\n",
      "1051.0579\n",
      "1011.9252\n",
      "981.4758\n",
      "954.12134\n",
      "925.71967\n",
      "893.908\n",
      "859.1673\n",
      "824.9034\n",
      "795.1102\n",
      "771.22217\n",
      "750.2554\n",
      "727.7379\n",
      "702.15216\n",
      "676.28094\n",
      "653.20013\n",
      "633.4062\n",
      "615.2278\n",
      "596.61505\n",
      "576.56805\n",
      "556.3905\n",
      "538.335\n",
      "522.61505\n",
      "507.29672\n",
      "491.05627\n",
      "474.565\n",
      "459.5062\n",
      "445.87585\n",
      "432.38525\n",
      "418.53033\n",
      "404.996\n",
      "392.4705\n",
      "380.71896\n",
      "368.84024\n",
      "357.00815\n",
      "346.0564\n",
      "335.58905\n",
      "325.13693\n",
      "314.9406\n",
      "305.36923\n",
      "295.98868\n",
      "286.7263\n",
      "277.90408\n",
      "269.32327\n",
      "260.90552\n",
      "252.86136\n",
      "245.03699\n",
      "237.41435\n",
      "230.0606\n",
      "222.85751\n",
      "215.93936\n",
      "209.1914\n",
      "202.64308\n",
      "196.29942\n",
      "190.14989\n",
      "184.19395\n",
      "178.47314\n",
      "172.972\n",
      "167.74718\n",
      "162.58229\n",
      "157.3546\n",
      "152.11525\n",
      "147.25644\n",
      "142.89119\n",
      "138.27303\n",
      "133.63904\n",
      "129.19762\n",
      "125.24525\n",
      "121.60312\n",
      "117.64484\n",
      "113.60442\n",
      "110.07546\n",
      "106.39926\n"
     ]
    }
   ],
   "source": [
    "for i in range(100):\n",
    "    c, _ = sess.run([cost,optimize], feed_dict={x:transformed_training_data , y:encoded_train})\n",
    "    print(c)"
   ]
  },
  {
   "cell_type": "code",
   "execution_count": 34,
   "metadata": {
    "colab": {
     "base_uri": "https://localhost:8080/",
     "height": 52
    },
    "colab_type": "code",
    "id": "iDYVpqE5e1ci",
    "outputId": "b7208cb0-346a-4e7b-bb74-4118ca14092f"
   },
   "outputs": [
    {
     "name": "stdout",
     "output_type": "stream",
     "text": [
      "Training score:  37589\n",
      "Testing score:  2487\n"
     ]
    }
   ],
   "source": [
    "predictions = tf.argmax(pred, 1)\n",
    "predictions_test = tf.argmax(pred, 1)\n",
    "correct_labels = tf.argmax(y, 1)\n",
    "correct_labels_test = tf.argmax(y, 1)\n",
    "correct_predictions = tf.equal(predictions, correct_labels)\n",
    "correct_predictions_test = tf.equal(predictions_test, correct_labels_test)\n",
    "predictions, correct_predictions  = sess.run([predictions, correct_predictions], feed_dict={x:transformed_training_data , y:encoded_train})\n",
    "print(\"Training score: \", correct_predictions.sum())\n",
    "predictions_test, correct_predictions_test  = sess.run([predictions_test, correct_predictions_test], feed_dict={x:transformed_testing_data , y:encoded_test})\n",
    "print(\"Testing score: \",correct_predictions_test.sum())"
   ]
  },
  {
   "cell_type": "code",
   "execution_count": 0,
   "metadata": {
    "colab": {},
    "colab_type": "code",
    "id": "SnUBAEv7e1cl"
   },
   "outputs": [],
   "source": [
    "predictions_decoded = []\n",
    "predictions = y_predict_svc\n",
    "labels = []\n",
    "for i in range(len(predictions)):\n",
    "    labels.append(class_names[predictions[i]])\n",
    "np.savetxt(\"predictions.csv\", labels, fmt = '%s')"
   ]
  },
  {
   "cell_type": "code",
   "execution_count": 15,
   "metadata": {
    "colab": {
     "base_uri": "https://localhost:8080/",
     "height": 52
    },
    "colab_type": "code",
    "id": "622lGdT5e1cm",
    "outputId": "c256ece2-b7bb-4d61-8088-3f515c8f3519"
   },
   "outputs": [
    {
     "name": "stdout",
     "output_type": "stream",
     "text": [
      "(50000, 32, 32, 3)\n",
      "(10000, 32, 32, 3)\n"
     ]
    }
   ],
   "source": [
    "print(images_train.shape)\n",
    "print(images_test.shape)"
   ]
  },
  {
   "cell_type": "code",
   "execution_count": 16,
   "metadata": {
    "colab": {
     "base_uri": "https://localhost:8080/",
     "height": 52
    },
    "colab_type": "code",
    "id": "SMNIxKqO_33Q",
    "outputId": "3386b3c5-2857-46ba-c760-fe76396bf3ee"
   },
   "outputs": [
    {
     "name": "stdout",
     "output_type": "stream",
     "text": [
      "[0. 0. 0. 0. 0. 1. 0. 0. 0. 0.]\n",
      "[0. 0. 0. 0. 0. 0. 0. 1. 0. 0.]\n"
     ]
    }
   ],
   "source": [
    "from keras.utils import to_categorical\n",
    "y_train = to_categorical(cls_train)\n",
    "y_test = to_categorical(cls_test)\n",
    "print(y_train[56])\n",
    "print(y_test[109])"
   ]
  },
  {
   "cell_type": "code",
   "execution_count": 0,
   "metadata": {
    "colab": {},
    "colab_type": "code",
    "id": "0ZwwO7MKAe-A"
   },
   "outputs": [],
   "source": [
    "from keras.models import Sequential\n",
    "from keras.layers import Conv2D, Flatten, Dropout, Dense, MaxPooling2D"
   ]
  },
  {
   "cell_type": "code",
   "execution_count": 0,
   "metadata": {
    "colab": {},
    "colab_type": "code",
    "id": "2uvd8NLCB5GK"
   },
   "outputs": [],
   "source": [
    "model = Sequential()\n",
    "model.add(Conv2D(48, (3, 3), padding = 'same', input_shape = (32, 32, 3),activation='relu'))\n",
    "model.add(MaxPooling2D(pool_size=(2, 2)))\n",
    "model.add(Dropout(0.25))\n",
    "model.add(Conv2D(96, (3, 3), padding = 'same',activation='relu'))\n",
    "model.add(MaxPooling2D(pool_size=(2, 2)))\n",
    "model.add(Dropout(0.25))\n",
    "model.add(Conv2D(192, (3, 3) , padding = 'same',activation='relu'))\n",
    "model.add(MaxPooling2D(pool_size=(2, 2)))\n",
    "model.add(Dropout(0.25))\n",
    "model.add(Flatten())\n",
    "model.add(Dense(512,activation='relu'))\n",
    "model.add(Dropout(0.5))\n",
    "model.add(Dense(256,activation='relu'))\n",
    "model.add(Dropout(0.5))\n",
    "model.add(Dense(10, activation='softmax'))\n",
    "# Compile the model\n",
    "model.compile(optimizer='adam', loss='categorical_crossentropy', metrics=['accuracy'])"
   ]
  },
  {
   "cell_type": "code",
   "execution_count": 29,
   "metadata": {
    "colab": {
     "base_uri": "https://localhost:8080/",
     "height": 6985
    },
    "colab_type": "code",
    "id": "HOZ8XvCPiLrw",
    "outputId": "7dd36ec7-df35-42f8-85e6-c5871d416f9a"
   },
   "outputs": [
    {
     "name": "stdout",
     "output_type": "stream",
     "text": [
      "Train on 50000 samples, validate on 10000 samples\n",
      "Epoch 1/200\n",
      " - 13s - loss: 1.7482 - acc: 0.3442 - val_loss: 1.3450 - val_acc: 0.5053\n",
      "Epoch 2/200\n",
      " - 12s - loss: 1.3262 - acc: 0.5217 - val_loss: 1.0847 - val_acc: 0.6147\n",
      "Epoch 3/200\n",
      " - 12s - loss: 1.1287 - acc: 0.5991 - val_loss: 0.9538 - val_acc: 0.6618\n",
      "Epoch 4/200\n",
      " - 12s - loss: 1.0082 - acc: 0.6491 - val_loss: 0.8518 - val_acc: 0.7020\n",
      "Epoch 5/200\n",
      " - 12s - loss: 0.9380 - acc: 0.6738 - val_loss: 0.8169 - val_acc: 0.7152\n",
      "Epoch 6/200\n",
      " - 12s - loss: 0.8803 - acc: 0.6947 - val_loss: 0.7543 - val_acc: 0.7356\n",
      "Epoch 7/200\n",
      " - 12s - loss: 0.8335 - acc: 0.7104 - val_loss: 0.7432 - val_acc: 0.7379\n",
      "Epoch 8/200\n",
      " - 12s - loss: 0.7988 - acc: 0.7231 - val_loss: 0.7042 - val_acc: 0.7517\n",
      "Epoch 9/200\n",
      " - 12s - loss: 0.7641 - acc: 0.7338 - val_loss: 0.7372 - val_acc: 0.7475\n",
      "Epoch 10/200\n",
      " - 12s - loss: 0.7379 - acc: 0.7450 - val_loss: 0.6787 - val_acc: 0.7646\n",
      "Epoch 11/200\n",
      " - 12s - loss: 0.7127 - acc: 0.7528 - val_loss: 0.6810 - val_acc: 0.7651\n",
      "Epoch 12/200\n",
      " - 12s - loss: 0.6916 - acc: 0.7603 - val_loss: 0.6774 - val_acc: 0.7663\n",
      "Epoch 13/200\n",
      " - 12s - loss: 0.6675 - acc: 0.7667 - val_loss: 0.6951 - val_acc: 0.7591\n",
      "Epoch 14/200\n",
      " - 12s - loss: 0.6480 - acc: 0.7771 - val_loss: 0.6384 - val_acc: 0.7857\n",
      "Epoch 15/200\n",
      " - 12s - loss: 0.6354 - acc: 0.7779 - val_loss: 0.6276 - val_acc: 0.7869\n",
      "Epoch 16/200\n",
      " - 12s - loss: 0.6131 - acc: 0.7872 - val_loss: 0.6237 - val_acc: 0.7840\n",
      "Epoch 17/200\n",
      " - 12s - loss: 0.6025 - acc: 0.7922 - val_loss: 0.6224 - val_acc: 0.7831\n",
      "Epoch 18/200\n",
      " - 12s - loss: 0.5926 - acc: 0.7936 - val_loss: 0.6322 - val_acc: 0.7820\n",
      "Epoch 19/200\n",
      " - 12s - loss: 0.5777 - acc: 0.7988 - val_loss: 0.6378 - val_acc: 0.7828\n",
      "Epoch 20/200\n",
      " - 12s - loss: 0.5687 - acc: 0.8014 - val_loss: 0.6040 - val_acc: 0.7914\n",
      "Epoch 21/200\n",
      " - 12s - loss: 0.5576 - acc: 0.8057 - val_loss: 0.6114 - val_acc: 0.7927\n",
      "Epoch 22/200\n",
      " - 12s - loss: 0.5454 - acc: 0.8129 - val_loss: 0.5957 - val_acc: 0.7930\n",
      "Epoch 23/200\n",
      " - 12s - loss: 0.5383 - acc: 0.8137 - val_loss: 0.5999 - val_acc: 0.7935\n",
      "Epoch 24/200\n",
      " - 12s - loss: 0.5286 - acc: 0.8178 - val_loss: 0.6094 - val_acc: 0.7916\n",
      "Epoch 25/200\n",
      " - 12s - loss: 0.5270 - acc: 0.8182 - val_loss: 0.6011 - val_acc: 0.7977\n",
      "Epoch 26/200\n",
      " - 12s - loss: 0.5145 - acc: 0.8220 - val_loss: 0.5974 - val_acc: 0.7924\n",
      "Epoch 27/200\n",
      " - 12s - loss: 0.5041 - acc: 0.8255 - val_loss: 0.5812 - val_acc: 0.8007\n",
      "Epoch 28/200\n",
      " - 12s - loss: 0.5027 - acc: 0.8242 - val_loss: 0.6302 - val_acc: 0.7871\n",
      "Epoch 29/200\n",
      " - 12s - loss: 0.4916 - acc: 0.8291 - val_loss: 0.6018 - val_acc: 0.7970\n",
      "Epoch 30/200\n",
      " - 12s - loss: 0.4815 - acc: 0.8331 - val_loss: 0.6303 - val_acc: 0.7858\n",
      "Epoch 31/200\n",
      " - 12s - loss: 0.4756 - acc: 0.8337 - val_loss: 0.6454 - val_acc: 0.7854\n",
      "Epoch 32/200\n",
      " - 12s - loss: 0.4706 - acc: 0.8366 - val_loss: 0.5825 - val_acc: 0.8046\n",
      "Epoch 33/200\n",
      " - 12s - loss: 0.4692 - acc: 0.8364 - val_loss: 0.5878 - val_acc: 0.8050\n",
      "Epoch 34/200\n",
      " - 12s - loss: 0.4592 - acc: 0.8400 - val_loss: 0.5789 - val_acc: 0.8039\n",
      "Epoch 35/200\n",
      " - 12s - loss: 0.4483 - acc: 0.8435 - val_loss: 0.6032 - val_acc: 0.8002\n",
      "Epoch 36/200\n",
      " - 12s - loss: 0.4494 - acc: 0.8441 - val_loss: 0.5809 - val_acc: 0.8056\n",
      "Epoch 37/200\n",
      " - 12s - loss: 0.4441 - acc: 0.8451 - val_loss: 0.5919 - val_acc: 0.8029\n",
      "Epoch 38/200\n",
      " - 12s - loss: 0.4385 - acc: 0.8478 - val_loss: 0.5863 - val_acc: 0.8026\n",
      "Epoch 39/200\n",
      " - 12s - loss: 0.4347 - acc: 0.8497 - val_loss: 0.5901 - val_acc: 0.8042\n",
      "Epoch 40/200\n",
      " - 12s - loss: 0.4281 - acc: 0.8516 - val_loss: 0.5872 - val_acc: 0.8038\n",
      "Epoch 41/200\n",
      " - 12s - loss: 0.4270 - acc: 0.8516 - val_loss: 0.5864 - val_acc: 0.8054\n",
      "Epoch 42/200\n",
      " - 12s - loss: 0.4214 - acc: 0.8539 - val_loss: 0.6131 - val_acc: 0.7982\n",
      "Epoch 43/200\n",
      " - 12s - loss: 0.4192 - acc: 0.8545 - val_loss: 0.5808 - val_acc: 0.8100\n",
      "Epoch 44/200\n",
      " - 12s - loss: 0.4203 - acc: 0.8544 - val_loss: 0.6283 - val_acc: 0.7954\n",
      "Epoch 45/200\n",
      " - 12s - loss: 0.4084 - acc: 0.8581 - val_loss: 0.5828 - val_acc: 0.8078\n",
      "Epoch 46/200\n",
      " - 12s - loss: 0.4082 - acc: 0.8615 - val_loss: 0.5824 - val_acc: 0.8094\n",
      "Epoch 47/200\n",
      " - 12s - loss: 0.4011 - acc: 0.8623 - val_loss: 0.5850 - val_acc: 0.8105\n",
      "Epoch 48/200\n",
      " - 12s - loss: 0.3972 - acc: 0.8618 - val_loss: 0.5972 - val_acc: 0.8079\n",
      "Epoch 49/200\n",
      " - 12s - loss: 0.4032 - acc: 0.8636 - val_loss: 0.5819 - val_acc: 0.8087\n",
      "Epoch 50/200\n",
      " - 12s - loss: 0.3891 - acc: 0.8660 - val_loss: 0.5984 - val_acc: 0.8000\n",
      "Epoch 51/200\n",
      " - 12s - loss: 0.3862 - acc: 0.8658 - val_loss: 0.6090 - val_acc: 0.8037\n",
      "Epoch 52/200\n",
      " - 12s - loss: 0.3869 - acc: 0.8667 - val_loss: 0.5853 - val_acc: 0.8094\n",
      "Epoch 53/200\n",
      " - 12s - loss: 0.3824 - acc: 0.8698 - val_loss: 0.5772 - val_acc: 0.8159\n",
      "Epoch 54/200\n",
      " - 12s - loss: 0.3788 - acc: 0.8702 - val_loss: 0.5852 - val_acc: 0.8126\n",
      "Epoch 55/200\n",
      " - 12s - loss: 0.3774 - acc: 0.8724 - val_loss: 0.5862 - val_acc: 0.8108\n",
      "Epoch 56/200\n",
      " - 12s - loss: 0.3691 - acc: 0.8704 - val_loss: 0.6224 - val_acc: 0.8012\n",
      "Epoch 57/200\n",
      " - 12s - loss: 0.3701 - acc: 0.8730 - val_loss: 0.5906 - val_acc: 0.8095\n",
      "Epoch 58/200\n",
      " - 12s - loss: 0.3672 - acc: 0.8740 - val_loss: 0.6001 - val_acc: 0.8096\n",
      "Epoch 59/200\n",
      " - 12s - loss: 0.3614 - acc: 0.8758 - val_loss: 0.5824 - val_acc: 0.8130\n",
      "Epoch 60/200\n",
      " - 12s - loss: 0.3612 - acc: 0.8768 - val_loss: 0.5691 - val_acc: 0.8182\n",
      "Epoch 61/200\n",
      " - 12s - loss: 0.3573 - acc: 0.8772 - val_loss: 0.5767 - val_acc: 0.8156\n",
      "Epoch 62/200\n",
      " - 12s - loss: 0.3561 - acc: 0.8789 - val_loss: 0.5833 - val_acc: 0.8147\n",
      "Epoch 63/200\n",
      " - 12s - loss: 0.3488 - acc: 0.8817 - val_loss: 0.5877 - val_acc: 0.8155\n",
      "Epoch 64/200\n",
      " - 12s - loss: 0.3477 - acc: 0.8810 - val_loss: 0.5895 - val_acc: 0.8135\n",
      "Epoch 65/200\n",
      " - 12s - loss: 0.3470 - acc: 0.8836 - val_loss: 0.6058 - val_acc: 0.8083\n",
      "Epoch 66/200\n",
      " - 12s - loss: 0.3380 - acc: 0.8838 - val_loss: 0.5880 - val_acc: 0.8182\n",
      "Epoch 67/200\n",
      " - 12s - loss: 0.3444 - acc: 0.8827 - val_loss: 0.5715 - val_acc: 0.8195\n",
      "Epoch 68/200\n",
      " - 12s - loss: 0.3352 - acc: 0.8863 - val_loss: 0.6057 - val_acc: 0.8135\n",
      "Epoch 69/200\n",
      " - 12s - loss: 0.3432 - acc: 0.8848 - val_loss: 0.6005 - val_acc: 0.8165\n",
      "Epoch 70/200\n",
      " - 12s - loss: 0.3379 - acc: 0.8853 - val_loss: 0.5819 - val_acc: 0.8171\n",
      "Epoch 71/200\n",
      " - 12s - loss: 0.3382 - acc: 0.8849 - val_loss: 0.5878 - val_acc: 0.8100\n",
      "Epoch 72/200\n",
      " - 12s - loss: 0.3333 - acc: 0.8867 - val_loss: 0.6229 - val_acc: 0.8059\n",
      "Epoch 73/200\n",
      " - 12s - loss: 0.3320 - acc: 0.8883 - val_loss: 0.5874 - val_acc: 0.8154\n",
      "Epoch 74/200\n",
      " - 12s - loss: 0.3257 - acc: 0.8892 - val_loss: 0.5793 - val_acc: 0.8202\n",
      "Epoch 75/200\n",
      " - 12s - loss: 0.3297 - acc: 0.8890 - val_loss: 0.5783 - val_acc: 0.8199\n",
      "Epoch 76/200\n",
      " - 12s - loss: 0.3243 - acc: 0.8881 - val_loss: 0.6023 - val_acc: 0.8149\n",
      "Epoch 77/200\n",
      " - 12s - loss: 0.3168 - acc: 0.8929 - val_loss: 0.5922 - val_acc: 0.8165\n",
      "Epoch 78/200\n",
      " - 12s - loss: 0.3189 - acc: 0.8927 - val_loss: 0.5966 - val_acc: 0.8181\n",
      "Epoch 79/200\n",
      " - 12s - loss: 0.3230 - acc: 0.8907 - val_loss: 0.5777 - val_acc: 0.8188\n",
      "Epoch 80/200\n",
      " - 12s - loss: 0.3085 - acc: 0.8963 - val_loss: 0.5783 - val_acc: 0.8183\n",
      "Epoch 81/200\n",
      " - 12s - loss: 0.3173 - acc: 0.8925 - val_loss: 0.6139 - val_acc: 0.8140\n",
      "Epoch 82/200\n",
      " - 12s - loss: 0.3156 - acc: 0.8934 - val_loss: 0.5964 - val_acc: 0.8187\n",
      "Epoch 83/200\n",
      " - 12s - loss: 0.3090 - acc: 0.8966 - val_loss: 0.5971 - val_acc: 0.8137\n",
      "Epoch 84/200\n",
      " - 12s - loss: 0.3086 - acc: 0.8959 - val_loss: 0.5922 - val_acc: 0.8160\n",
      "Epoch 85/200\n",
      " - 12s - loss: 0.3062 - acc: 0.8953 - val_loss: 0.5884 - val_acc: 0.8206\n",
      "Epoch 86/200\n",
      " - 12s - loss: 0.3065 - acc: 0.8950 - val_loss: 0.5886 - val_acc: 0.8157\n",
      "Epoch 87/200\n",
      " - 12s - loss: 0.3121 - acc: 0.8946 - val_loss: 0.6050 - val_acc: 0.8169\n",
      "Epoch 88/200\n",
      " - 12s - loss: 0.3009 - acc: 0.8992 - val_loss: 0.6302 - val_acc: 0.8099\n",
      "Epoch 89/200\n",
      " - 12s - loss: 0.3033 - acc: 0.9003 - val_loss: 0.5914 - val_acc: 0.8150\n",
      "Epoch 90/200\n",
      " - 12s - loss: 0.2979 - acc: 0.8990 - val_loss: 0.5935 - val_acc: 0.8203\n",
      "Epoch 91/200\n",
      " - 12s - loss: 0.2915 - acc: 0.9032 - val_loss: 0.5932 - val_acc: 0.8194\n",
      "Epoch 92/200\n",
      " - 12s - loss: 0.2989 - acc: 0.9000 - val_loss: 0.6129 - val_acc: 0.8167\n",
      "Epoch 93/200\n",
      " - 12s - loss: 0.2957 - acc: 0.8996 - val_loss: 0.6067 - val_acc: 0.8131\n",
      "Epoch 94/200\n",
      " - 12s - loss: 0.2919 - acc: 0.9019 - val_loss: 0.6041 - val_acc: 0.8182\n",
      "Epoch 95/200\n",
      " - 12s - loss: 0.2955 - acc: 0.9010 - val_loss: 0.6120 - val_acc: 0.8190\n",
      "Epoch 96/200\n",
      " - 12s - loss: 0.3012 - acc: 0.8997 - val_loss: 0.5997 - val_acc: 0.8171\n",
      "Epoch 97/200\n",
      " - 12s - loss: 0.2938 - acc: 0.9012 - val_loss: 0.6000 - val_acc: 0.8198\n",
      "Epoch 98/200\n",
      " - 12s - loss: 0.2869 - acc: 0.9055 - val_loss: 0.5925 - val_acc: 0.8184\n",
      "Epoch 99/200\n",
      " - 12s - loss: 0.2883 - acc: 0.9043 - val_loss: 0.5878 - val_acc: 0.8198\n",
      "Epoch 100/200\n",
      " - 12s - loss: 0.2849 - acc: 0.9054 - val_loss: 0.5960 - val_acc: 0.8174\n",
      "Epoch 101/200\n",
      " - 12s - loss: 0.2906 - acc: 0.9029 - val_loss: 0.5740 - val_acc: 0.8229\n",
      "Epoch 102/200\n",
      " - 12s - loss: 0.2776 - acc: 0.9056 - val_loss: 0.5951 - val_acc: 0.8196\n",
      "Epoch 103/200\n",
      " - 12s - loss: 0.2925 - acc: 0.9039 - val_loss: 0.5966 - val_acc: 0.8160\n",
      "Epoch 104/200\n",
      " - 12s - loss: 0.2873 - acc: 0.9050 - val_loss: 0.5844 - val_acc: 0.8222\n",
      "Epoch 105/200\n",
      " - 12s - loss: 0.2792 - acc: 0.9066 - val_loss: 0.5872 - val_acc: 0.8195\n",
      "Epoch 106/200\n",
      " - 12s - loss: 0.2811 - acc: 0.9057 - val_loss: 0.6201 - val_acc: 0.8116\n",
      "Epoch 107/200\n",
      " - 12s - loss: 0.2785 - acc: 0.9078 - val_loss: 0.6015 - val_acc: 0.8237\n",
      "Epoch 108/200\n",
      " - 12s - loss: 0.2804 - acc: 0.9075 - val_loss: 0.6058 - val_acc: 0.8179\n",
      "Epoch 109/200\n",
      " - 12s - loss: 0.2758 - acc: 0.9104 - val_loss: 0.5843 - val_acc: 0.8189\n",
      "Epoch 110/200\n",
      " - 12s - loss: 0.2773 - acc: 0.9080 - val_loss: 0.5966 - val_acc: 0.8191\n",
      "Epoch 111/200\n",
      " - 12s - loss: 0.2792 - acc: 0.9088 - val_loss: 0.6145 - val_acc: 0.8150\n",
      "Epoch 112/200\n",
      " - 12s - loss: 0.2719 - acc: 0.9113 - val_loss: 0.6401 - val_acc: 0.8088\n",
      "Epoch 113/200\n",
      " - 12s - loss: 0.2744 - acc: 0.9103 - val_loss: 0.6186 - val_acc: 0.8144\n",
      "Epoch 114/200\n",
      " - 12s - loss: 0.2792 - acc: 0.9091 - val_loss: 0.5951 - val_acc: 0.8197\n",
      "Epoch 115/200\n",
      " - 12s - loss: 0.2723 - acc: 0.9107 - val_loss: 0.6028 - val_acc: 0.8215\n",
      "Epoch 116/200\n",
      " - 12s - loss: 0.2712 - acc: 0.9104 - val_loss: 0.6249 - val_acc: 0.8146\n",
      "Epoch 117/200\n",
      " - 12s - loss: 0.2653 - acc: 0.9127 - val_loss: 0.6064 - val_acc: 0.8233\n",
      "Epoch 118/200\n",
      " - 12s - loss: 0.2719 - acc: 0.9104 - val_loss: 0.6149 - val_acc: 0.8163\n",
      "Epoch 119/200\n",
      " - 12s - loss: 0.2711 - acc: 0.9110 - val_loss: 0.5911 - val_acc: 0.8213\n",
      "Epoch 120/200\n",
      " - 12s - loss: 0.2696 - acc: 0.9122 - val_loss: 0.6077 - val_acc: 0.8175\n",
      "Epoch 121/200\n",
      " - 12s - loss: 0.2631 - acc: 0.9138 - val_loss: 0.5992 - val_acc: 0.8185\n",
      "Epoch 122/200\n",
      " - 12s - loss: 0.2651 - acc: 0.9126 - val_loss: 0.6120 - val_acc: 0.8203\n",
      "Epoch 123/200\n",
      " - 12s - loss: 0.2614 - acc: 0.9153 - val_loss: 0.6371 - val_acc: 0.8095\n",
      "Epoch 124/200\n",
      " - 12s - loss: 0.2693 - acc: 0.9094 - val_loss: 0.6223 - val_acc: 0.8168\n",
      "Epoch 125/200\n",
      " - 12s - loss: 0.2648 - acc: 0.9127 - val_loss: 0.6027 - val_acc: 0.8237\n",
      "Epoch 126/200\n",
      " - 12s - loss: 0.2678 - acc: 0.9124 - val_loss: 0.6221 - val_acc: 0.8195\n",
      "Epoch 127/200\n",
      " - 12s - loss: 0.2636 - acc: 0.9154 - val_loss: 0.6104 - val_acc: 0.8197\n",
      "Epoch 128/200\n",
      " - 12s - loss: 0.2606 - acc: 0.9153 - val_loss: 0.5923 - val_acc: 0.8233\n",
      "Epoch 129/200\n",
      " - 12s - loss: 0.2571 - acc: 0.9169 - val_loss: 0.5952 - val_acc: 0.8254\n",
      "Epoch 130/200\n",
      " - 12s - loss: 0.2631 - acc: 0.9149 - val_loss: 0.6090 - val_acc: 0.8167\n",
      "Epoch 131/200\n",
      " - 12s - loss: 0.2642 - acc: 0.9128 - val_loss: 0.6077 - val_acc: 0.8228\n",
      "Epoch 132/200\n",
      " - 12s - loss: 0.2579 - acc: 0.9165 - val_loss: 0.6159 - val_acc: 0.8194\n",
      "Epoch 133/200\n",
      " - 12s - loss: 0.2612 - acc: 0.9136 - val_loss: 0.6122 - val_acc: 0.8235\n",
      "Epoch 134/200\n",
      " - 12s - loss: 0.2549 - acc: 0.9161 - val_loss: 0.6374 - val_acc: 0.8140\n",
      "Epoch 135/200\n",
      " - 12s - loss: 0.2605 - acc: 0.9159 - val_loss: 0.6029 - val_acc: 0.8221\n",
      "Epoch 136/200\n",
      " - 12s - loss: 0.2585 - acc: 0.9154 - val_loss: 0.5908 - val_acc: 0.8237\n",
      "Epoch 137/200\n",
      " - 12s - loss: 0.2632 - acc: 0.9143 - val_loss: 0.6032 - val_acc: 0.8205\n",
      "Epoch 138/200\n",
      " - 12s - loss: 0.2501 - acc: 0.9192 - val_loss: 0.6087 - val_acc: 0.8212\n",
      "Epoch 139/200\n",
      " - 12s - loss: 0.2526 - acc: 0.9190 - val_loss: 0.6159 - val_acc: 0.8165\n",
      "Epoch 140/200\n",
      " - 12s - loss: 0.2594 - acc: 0.9155 - val_loss: 0.6406 - val_acc: 0.8145\n",
      "Epoch 141/200\n",
      " - 12s - loss: 0.2518 - acc: 0.9188 - val_loss: 0.5994 - val_acc: 0.8222\n",
      "Epoch 142/200\n",
      " - 12s - loss: 0.2480 - acc: 0.9188 - val_loss: 0.6180 - val_acc: 0.8176\n",
      "Epoch 143/200\n",
      " - 12s - loss: 0.2524 - acc: 0.9183 - val_loss: 0.6173 - val_acc: 0.8203\n",
      "Epoch 144/200\n",
      " - 12s - loss: 0.2543 - acc: 0.9174 - val_loss: 0.6302 - val_acc: 0.8135\n",
      "Epoch 145/200\n",
      " - 12s - loss: 0.2480 - acc: 0.9186 - val_loss: 0.6025 - val_acc: 0.8157\n",
      "Epoch 146/200\n",
      " - 12s - loss: 0.2479 - acc: 0.9195 - val_loss: 0.6353 - val_acc: 0.8121\n",
      "Epoch 147/200\n",
      " - 12s - loss: 0.2533 - acc: 0.9179 - val_loss: 0.6108 - val_acc: 0.8226\n",
      "Epoch 148/200\n",
      " - 12s - loss: 0.2456 - acc: 0.9208 - val_loss: 0.6117 - val_acc: 0.8214\n",
      "Epoch 149/200\n",
      " - 12s - loss: 0.2469 - acc: 0.9188 - val_loss: 0.6181 - val_acc: 0.8203\n",
      "Epoch 150/200\n",
      " - 12s - loss: 0.2420 - acc: 0.9210 - val_loss: 0.6264 - val_acc: 0.8188\n",
      "Epoch 151/200\n",
      " - 12s - loss: 0.2509 - acc: 0.9207 - val_loss: 0.6062 - val_acc: 0.8204\n",
      "Epoch 152/200\n",
      " - 12s - loss: 0.2459 - acc: 0.9205 - val_loss: 0.6241 - val_acc: 0.8189\n",
      "Epoch 153/200\n",
      " - 12s - loss: 0.2378 - acc: 0.9222 - val_loss: 0.6398 - val_acc: 0.8216\n",
      "Epoch 154/200\n",
      " - 12s - loss: 0.2484 - acc: 0.9205 - val_loss: 0.6169 - val_acc: 0.8231\n",
      "Epoch 155/200\n",
      " - 12s - loss: 0.2496 - acc: 0.9199 - val_loss: 0.6170 - val_acc: 0.8202\n",
      "Epoch 156/200\n",
      " - 12s - loss: 0.2424 - acc: 0.9220 - val_loss: 0.6155 - val_acc: 0.8176\n",
      "Epoch 157/200\n",
      " - 12s - loss: 0.2495 - acc: 0.9194 - val_loss: 0.6285 - val_acc: 0.8175\n",
      "Epoch 158/200\n",
      " - 12s - loss: 0.2482 - acc: 0.9203 - val_loss: 0.6196 - val_acc: 0.8176\n",
      "Epoch 159/200\n",
      " - 12s - loss: 0.2463 - acc: 0.9215 - val_loss: 0.5981 - val_acc: 0.8233\n",
      "Epoch 160/200\n",
      " - 12s - loss: 0.2487 - acc: 0.9196 - val_loss: 0.5877 - val_acc: 0.8246\n",
      "Epoch 161/200\n",
      " - 12s - loss: 0.2489 - acc: 0.9205 - val_loss: 0.6257 - val_acc: 0.8174\n",
      "Epoch 162/200\n",
      " - 12s - loss: 0.2454 - acc: 0.9201 - val_loss: 0.6059 - val_acc: 0.8241\n",
      "Epoch 163/200\n",
      " - 12s - loss: 0.2407 - acc: 0.9233 - val_loss: 0.6158 - val_acc: 0.8233\n",
      "Epoch 164/200\n",
      " - 12s - loss: 0.2383 - acc: 0.9225 - val_loss: 0.6124 - val_acc: 0.8234\n",
      "Epoch 165/200\n",
      " - 12s - loss: 0.2381 - acc: 0.9233 - val_loss: 0.6199 - val_acc: 0.8188\n",
      "Epoch 166/200\n",
      " - 12s - loss: 0.2417 - acc: 0.9225 - val_loss: 0.6233 - val_acc: 0.8169\n",
      "Epoch 167/200\n",
      " - 12s - loss: 0.2488 - acc: 0.9207 - val_loss: 0.6308 - val_acc: 0.8110\n",
      "Epoch 168/200\n",
      " - 12s - loss: 0.2389 - acc: 0.9236 - val_loss: 0.6207 - val_acc: 0.8211\n",
      "Epoch 169/200\n",
      " - 12s - loss: 0.2402 - acc: 0.9219 - val_loss: 0.5960 - val_acc: 0.8253\n",
      "Epoch 170/200\n",
      " - 12s - loss: 0.2375 - acc: 0.9221 - val_loss: 0.6151 - val_acc: 0.8237\n",
      "Epoch 171/200\n",
      " - 12s - loss: 0.2421 - acc: 0.9218 - val_loss: 0.6290 - val_acc: 0.8211\n",
      "Epoch 172/200\n",
      " - 12s - loss: 0.2405 - acc: 0.9240 - val_loss: 0.6166 - val_acc: 0.8191\n",
      "Epoch 173/200\n",
      " - 12s - loss: 0.2457 - acc: 0.9200 - val_loss: 0.6282 - val_acc: 0.8219\n",
      "Epoch 174/200\n",
      " - 12s - loss: 0.2301 - acc: 0.9272 - val_loss: 0.6034 - val_acc: 0.8256\n",
      "Epoch 175/200\n",
      " - 12s - loss: 0.2353 - acc: 0.9243 - val_loss: 0.6340 - val_acc: 0.8152\n",
      "Epoch 176/200\n",
      " - 12s - loss: 0.2361 - acc: 0.9249 - val_loss: 0.6390 - val_acc: 0.8157\n",
      "Epoch 177/200\n",
      " - 12s - loss: 0.2401 - acc: 0.9239 - val_loss: 0.6348 - val_acc: 0.8251\n",
      "Epoch 178/200\n",
      " - 12s - loss: 0.2421 - acc: 0.9235 - val_loss: 0.6130 - val_acc: 0.8233\n",
      "Epoch 179/200\n",
      " - 12s - loss: 0.2306 - acc: 0.9261 - val_loss: 0.6284 - val_acc: 0.8214\n",
      "Epoch 180/200\n",
      " - 12s - loss: 0.2407 - acc: 0.9221 - val_loss: 0.6258 - val_acc: 0.8244\n",
      "Epoch 181/200\n",
      " - 12s - loss: 0.2366 - acc: 0.9248 - val_loss: 0.6209 - val_acc: 0.8233\n",
      "Epoch 182/200\n",
      " - 12s - loss: 0.2323 - acc: 0.9249 - val_loss: 0.6409 - val_acc: 0.8132\n",
      "Epoch 183/200\n",
      " - 12s - loss: 0.2279 - acc: 0.9275 - val_loss: 0.6245 - val_acc: 0.8236\n",
      "Epoch 184/200\n",
      " - 12s - loss: 0.2258 - acc: 0.9280 - val_loss: 0.6375 - val_acc: 0.8201\n",
      "Epoch 185/200\n",
      " - 12s - loss: 0.2311 - acc: 0.9267 - val_loss: 0.6253 - val_acc: 0.8218\n",
      "Epoch 186/200\n",
      " - 12s - loss: 0.2359 - acc: 0.9259 - val_loss: 0.6154 - val_acc: 0.8267\n",
      "Epoch 187/200\n",
      " - 12s - loss: 0.2321 - acc: 0.9266 - val_loss: 0.6365 - val_acc: 0.8172\n",
      "Epoch 188/200\n",
      " - 12s - loss: 0.2293 - acc: 0.9291 - val_loss: 0.6283 - val_acc: 0.8222\n",
      "Epoch 189/200\n",
      " - 12s - loss: 0.2361 - acc: 0.9243 - val_loss: 0.6172 - val_acc: 0.8207\n",
      "Epoch 190/200\n",
      " - 12s - loss: 0.2325 - acc: 0.9258 - val_loss: 0.6367 - val_acc: 0.8178\n",
      "Epoch 191/200\n",
      " - 12s - loss: 0.2249 - acc: 0.9286 - val_loss: 0.6546 - val_acc: 0.8175\n",
      "Epoch 192/200\n",
      " - 12s - loss: 0.2292 - acc: 0.9283 - val_loss: 0.6278 - val_acc: 0.8205\n",
      "Epoch 193/200\n",
      " - 12s - loss: 0.2328 - acc: 0.9265 - val_loss: 0.6173 - val_acc: 0.8250\n",
      "Epoch 194/200\n",
      " - 12s - loss: 0.2330 - acc: 0.9266 - val_loss: 0.6311 - val_acc: 0.8211\n",
      "Epoch 195/200\n",
      " - 12s - loss: 0.2313 - acc: 0.9277 - val_loss: 0.6299 - val_acc: 0.8206\n",
      "Epoch 196/200\n",
      " - 12s - loss: 0.2271 - acc: 0.9294 - val_loss: 0.6374 - val_acc: 0.8157\n",
      "Epoch 197/200\n",
      " - 12s - loss: 0.2247 - acc: 0.9295 - val_loss: 0.6367 - val_acc: 0.8193\n",
      "Epoch 198/200\n",
      " - 12s - loss: 0.2266 - acc: 0.9280 - val_loss: 0.6259 - val_acc: 0.8174\n",
      "Epoch 199/200\n",
      " - 12s - loss: 0.2247 - acc: 0.9290 - val_loss: 0.6320 - val_acc: 0.8175\n",
      "Epoch 200/200\n",
      " - 12s - loss: 0.2331 - acc: 0.9271 - val_loss: 0.6250 - val_acc: 0.8229\n"
     ]
    },
    {
     "data": {
      "text/plain": [
       "<keras.callbacks.History at 0x7f245bea8a90>"
      ]
     },
     "execution_count": 29,
     "metadata": {
      "tags": []
     },
     "output_type": "execute_result"
    }
   ],
   "source": [
    "# Train the model\n",
    "model.fit(images_train, y_train, batch_size=128, epochs = 200, validation_data = (images_test, y_test), verbose=2)"
   ]
  },
  {
   "cell_type": "code",
   "execution_count": 30,
   "metadata": {
    "colab": {
     "base_uri": "https://localhost:8080/",
     "height": 69
    },
    "colab_type": "code",
    "id": "0wm__STDsNwE",
    "outputId": "33c86aec-7507-4957-b3fe-031aeae6ddcf"
   },
   "outputs": [
    {
     "name": "stdout",
     "output_type": "stream",
     "text": [
      "10000/10000 [==============================] - 1s 103us/step\n",
      "0.6250305355072021\n",
      "0.8229\n"
     ]
    }
   ],
   "source": [
    "scores = model.evaluate(images_test, y_test, batch_size=128, verbose=1)\n",
    "print(scores[0])\n",
    "print(scores[1])"
   ]
  },
  {
   "cell_type": "code",
   "execution_count": 31,
   "metadata": {
    "colab": {
     "base_uri": "https://localhost:8080/",
     "height": 52
    },
    "colab_type": "code",
    "id": "VO6vc9KFs4dE",
    "outputId": "44671e42-3b72-424d-89dd-de4c13af1524"
   },
   "outputs": [
    {
     "name": "stdout",
     "output_type": "stream",
     "text": [
      "[8.5288647e-09 1.2233166e-09 5.1237534e-05 2.8753700e-06 1.9220720e-04\n",
      " 4.1575031e-08 9.9975365e-01 1.4227667e-08 1.7288990e-08 2.2351797e-10]\n"
     ]
    }
   ],
   "source": [
    "print(soultion[4])"
   ]
  },
  {
   "cell_type": "code",
   "execution_count": 0,
   "metadata": {
    "colab": {},
    "colab_type": "code",
    "id": "b3k3dNw4sly6"
   },
   "outputs": [],
   "source": [
    "from google.colab import files\n",
    "predictions = soultion\n",
    "labels = []\n",
    "for i in range(len(predictions)):\n",
    "    index = np.argmax(predictions[i])\n",
    "    labels.append(class_names[index])\n",
    "np.savetxt(\"prediction.csv\", labels, fmt = '%s')\n",
    "files.download('prediction.csv')"
   ]
  },
  {
   "cell_type": "code",
   "execution_count": 0,
   "metadata": {
    "colab": {},
    "colab_type": "code",
    "id": "aSETB4ryIhL4"
   },
   "outputs": [],
   "source": [
    "predictions = cls_test\n",
    "labels = []\n",
    "for i in range(len(predictions)):\n",
    "    index = predictions[i]\n",
    "    labels.append(class_names[index])\n",
    "np.savetxt(\"prediction_1.csv\", labels, fmt = '%s')\n",
    "files.download('prediction_1.csv')"
   ]
  }
 ],
 "metadata": {
  "accelerator": "GPU",
  "colab": {
   "name": "cifar10_pca_template.ipynb",
   "provenance": [],
   "version": "0.3.2"
  },
  "kernelspec": {
   "display_name": "Python 3",
   "language": "python",
   "name": "python3"
  },
  "language_info": {
   "codemirror_mode": {
    "name": "ipython",
    "version": 3
   },
   "file_extension": ".py",
   "mimetype": "text/x-python",
   "name": "python",
   "nbconvert_exporter": "python",
   "pygments_lexer": "ipython3",
   "version": "3.6.5"
  }
 },
 "nbformat": 4,
 "nbformat_minor": 1
}
